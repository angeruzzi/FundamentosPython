{
  "nbformat": 4,
  "nbformat_minor": 0,
  "metadata": {
    "colab": {
      "name": "Projeto Flai - Album de Figurinhas",
      "provenance": [],
      "authorship_tag": "ABX9TyOPAZv+xMSNINUnuMhbawzq",
      "include_colab_link": true
    },
    "kernelspec": {
      "name": "python3",
      "display_name": "Python 3"
    },
    "language_info": {
      "name": "python"
    }
  },
  "cells": [
    {
      "cell_type": "markdown",
      "metadata": {
        "id": "view-in-github",
        "colab_type": "text"
      },
      "source": [
        "<a href=\"https://colab.research.google.com/github/angeruzzi/Python/blob/main/Projeto_Flai_Album_de_Figurinhas.ipynb\" target=\"_parent\"><img src=\"https://colab.research.google.com/assets/colab-badge.svg\" alt=\"Open In Colab\"/></a>"
      ]
    },
    {
      "cell_type": "markdown",
      "metadata": {
        "id": "Ksyal4qYvZe1"
      },
      "source": [
        "#PROJETO: ALBUM FIGURINHA\n",
        "\n",
        "*   Total de cromos: **212**\n",
        "*   Preço do livro ilustrado capa brochura: **R$10,00**\n",
        "*   Envelope com 4 cromos: **R$4,00**\n",
        "\n",
        "#SUPOSIÇÕES\n",
        "\n",
        "1.   Todas as figurinhas tem igual probabiidade de serem sorteadas.\n",
        "2.   Um pacotinho é comprado por vez até que se complete o álbum.\n",
        "\n",
        "#ALGORITMO\n",
        "\n",
        "1.   Comprar um pacotinho de figurinhas (4 figurinhas cada, que podem ser repetidas);\n",
        "2.   Colar no álbum e verificar se o álbum está completo;\n",
        "3.   Caso esteja incompleto, comprar mais um pacotinho, caso contrário, terminar\n",
        "\n",
        "#PERGUNTAS\n",
        "\n",
        "1.   Qual o valor médio investido para completar o álbum nessas condições?\n",
        "2.   Quantos pacotes são necessários comprar, em média, para completar o álbum?\n",
        "3.   Qual é a distribuição empírica do valor investido para completar o álbum?\n",
        "4.   Qual a probabilidade de se gastar menos que R$1.500,00 para completar o álbum?\n",
        "5.   Qual a probabilidade de se gastar mais do que a média para completar o álbum?\n",
        "6.   Qual é um intervalo de confiança de 95% para o gasto ao se completar o álbum?\n",
        "7.   Qual o valor médio gasto caso se esteja completando o álbum com mais de um amigo?\n",
        "8.   Qual o valor médio gasto caso se esteja completando o álbum com mais dois amigos?\n"
      ]
    },
    {
      "cell_type": "code",
      "metadata": {
        "id": "3P-Ch0CjzAIT"
      },
      "source": [
        "import numpy as np"
      ],
      "execution_count": null,
      "outputs": []
    },
    {
      "cell_type": "code",
      "metadata": {
        "id": "WmLykzCqyzE3"
      },
      "source": [
        "n_album = 212\n",
        "preco_pacote = 4\n",
        "cromos_por_pacote = 4\n",
        "preco_album = 10"
      ],
      "execution_count": null,
      "outputs": []
    },
    {
      "cell_type": "markdown",
      "metadata": {
        "id": "lhswWjTU1UKo"
      },
      "source": [
        "##Passos"
      ]
    },
    {
      "cell_type": "code",
      "metadata": {
        "id": "pSzhDrGgzB8N"
      },
      "source": [
        "#Criar album\n",
        "album = np.zeros(n_album)"
      ],
      "execution_count": null,
      "outputs": []
    },
    {
      "cell_type": "code",
      "metadata": {
        "colab": {
          "base_uri": "https://localhost:8080/"
        },
        "id": "uNbtQ9Zy0KgV",
        "outputId": "c175ea3f-34a3-4c83-9377-b6b3a374db01"
      },
      "source": [
        "#Comprar Pacote\n",
        "pacotinho = np.random.choice(np.arange(0,n_album), size =4)\n",
        "pacotinho"
      ],
      "execution_count": null,
      "outputs": [
        {
          "output_type": "execute_result",
          "data": {
            "text/plain": [
              "array([5, 0, 0, 4])"
            ]
          },
          "metadata": {
            "tags": []
          },
          "execution_count": 46
        }
      ]
    },
    {
      "cell_type": "code",
      "metadata": {
        "colab": {
          "base_uri": "https://localhost:8080/"
        },
        "id": "Den1rrHrzPL8",
        "outputId": "7c5fd17f-164a-4a80-bcae-495394948dbf"
      },
      "source": [
        "#colar no album\n",
        "\n",
        "album[pacotinho[0]] += 1\n",
        "album[pacotinho[1]] += 1\n",
        "album[pacotinho[2]] += 1\n",
        "album[pacotinho[3]] += 1\n",
        "album\n"
      ],
      "execution_count": null,
      "outputs": [
        {
          "output_type": "execute_result",
          "data": {
            "text/plain": [
              "array([2., 3., 3., 3., 5., 3., 1.])"
            ]
          },
          "metadata": {
            "tags": []
          },
          "execution_count": 47
        }
      ]
    },
    {
      "cell_type": "code",
      "metadata": {
        "colab": {
          "base_uri": "https://localhost:8080/"
        },
        "id": "rMAbuR1d051t",
        "outputId": "08bf639f-aaac-474e-befe-e97c765609f0"
      },
      "source": [
        "not np.all(album >= 1)"
      ],
      "execution_count": null,
      "outputs": [
        {
          "output_type": "execute_result",
          "data": {
            "text/plain": [
              "False"
            ]
          },
          "metadata": {
            "tags": []
          },
          "execution_count": 48
        }
      ]
    },
    {
      "cell_type": "markdown",
      "metadata": {
        "id": "RGC4mXSd1aH8"
      },
      "source": [
        "#Implementação final"
      ]
    },
    {
      "cell_type": "code",
      "metadata": {
        "id": "l2Gdnl-s8JsC"
      },
      "source": [
        "def SimulaAlbum():\n",
        "  #Criar album\n",
        "  album = np.zeros(n_album)\n",
        "  pacotes = 0;\n",
        "\n",
        "  while True:\n",
        "    #Comprar Pacote\n",
        "    pacotinho = np.random.choice(np.arange(0,n_album), size =4)\n",
        "    pacotes += 1\n",
        "    for i in [0, 1, 2, 3]:\n",
        "      #colar no album\n",
        "      album[pacotinho[i]] += 1\n",
        "    \n",
        "    if np.all(album >= 1):\n",
        "      break\n",
        "\n",
        "  custo = pacotes*preco_pacote + preco_album\n",
        "  return custo"
      ],
      "execution_count": null,
      "outputs": []
    },
    {
      "cell_type": "code",
      "metadata": {
        "id": "PMy9tD4X9W_w"
      },
      "source": [
        "#SIMULAÇÃO\n",
        "s = 10000\n",
        "resultados = []\n",
        "for i in range(s):\n",
        "  resultados.append (SimulaAlbum())\n",
        "\n",
        "sim = np.array(resultados)"
      ],
      "execution_count": null,
      "outputs": []
    },
    {
      "cell_type": "code",
      "metadata": {
        "colab": {
          "base_uri": "https://localhost:8080/"
        },
        "id": "JcvAfVoc_8eC",
        "outputId": "4d5c9548-7bbf-41d7-ae2f-caa387d3f855"
      },
      "source": [
        "# QUESTÃO 1: VALOR MÉDIO\n",
        "sim.mean()"
      ],
      "execution_count": null,
      "outputs": [
        {
          "output_type": "execute_result",
          "data": {
            "text/plain": [
              "1271.564"
            ]
          },
          "metadata": {
            "tags": []
          },
          "execution_count": 82
        }
      ]
    },
    {
      "cell_type": "code",
      "metadata": {
        "colab": {
          "base_uri": "https://localhost:8080/"
        },
        "id": "nLtAERZM_UyT",
        "outputId": "9576ec49-ac18-404e-daf1-10fd5f43b5ae"
      },
      "source": [
        "#QUESTÃO 2: QTD DE PACOTES\n",
        "(sim.mean()-preco_album) / preco_pacote"
      ],
      "execution_count": null,
      "outputs": [
        {
          "output_type": "execute_result",
          "data": {
            "text/plain": [
              "315.391"
            ]
          },
          "metadata": {
            "tags": []
          },
          "execution_count": 85
        }
      ]
    },
    {
      "cell_type": "code",
      "metadata": {
        "colab": {
          "base_uri": "https://localhost:8080/",
          "height": 283
        },
        "id": "xkAH37Sq_ZLa",
        "outputId": "1dbeefbb-0a56-40e6-bac2-7129c49fe842"
      },
      "source": [
        "#QUESTÃO 3: DISTRIBUIÇÃO\n",
        "import matplotlib.pyplot as plt\n",
        "\n",
        "plt.hist(sim, bins = 50, density = True, color = 'royalblue', edgecolor = 'black')\n",
        "plt.title('Distribuição Emírica do Valor Gasto para Completar o Álbum')\n",
        "plt.show()"
      ],
      "execution_count": null,
      "outputs": [
        {
          "output_type": "display_data",
          "data": {
            "image/png": "[encoded data removed]",
            "text/plain": [
              "<Figure size 432x288 with 1 Axes>"
            ]
          },
          "metadata": {
            "tags": [],
            "needs_background": "light"
          }
        }
      ]
    },
    {
      "cell_type": "code",
      "metadata": {
        "colab": {
          "base_uri": "https://localhost:8080/"
        },
        "id": "lbOEyz0QBAbo",
        "outputId": "2a66eb80-3733-44f9-deac-ef9ca6cd3d03"
      },
      "source": [
        "#QUESTÃO 4: Qual a probabilidade de se gastar menos que R$1.500,00 para completar o álbum?\n",
        "prob1 = sum(np.array(sim) < 1500) / s\n",
        "print('A probabilidade de se gastar menos de 1500 é {:.2f}%'.format(prob1*100))"
      ],
      "execution_count": null,
      "outputs": [
        {
          "output_type": "stream",
          "text": [
            "A probabilidade de se gastar menos de 1500 é 82.40%\n"
          ],
          "name": "stdout"
        }
      ]
    },
    {
      "cell_type": "code",
      "metadata": {
        "colab": {
          "base_uri": "https://localhost:8080/"
        },
        "id": "WWqlw0HUBcC5",
        "outputId": "7436014c-36f0-4882-d0f8-dd3eb6d3a82c"
      },
      "source": [
        "#QUESTÃO 5:  Qual a probabilidade de se gastar mais do que a média para completar o álbum?\n",
        "prob2 = sum(np.array(sim) > np.array(sim).mean()) / s\n",
        "print('A probabilidade de se gastar mais do que a média é {:.2f}%'.format(prob2*100))\n"
      ],
      "execution_count": null,
      "outputs": [
        {
          "output_type": "stream",
          "text": [
            "A probabilidade de se gastar mais do que a média é 42.25%\n"
          ],
          "name": "stdout"
        }
      ]
    },
    {
      "cell_type": "code",
      "metadata": {
        "colab": {
          "base_uri": "https://localhost:8080/"
        },
        "id": "mdF0Ps8oCxPD",
        "outputId": "47383908-c267-4e54-d146-58c27ede4085"
      },
      "source": [
        "#QUESTÃO 6:  Qual é um intervalo de confiança de 95% para o gasto ao se completar o álbum?\n",
        "qts = np.quantile(sim, [0.025, 0.975])\n",
        "qts\n"
      ],
      "execution_count": null,
      "outputs": [
        {
          "output_type": "execute_result",
          "data": {
            "text/plain": [
              "array([ 878., 1926.])"
            ]
          },
          "metadata": {
            "tags": []
          },
          "execution_count": 96
        }
      ]
    },
    {
      "cell_type": "code",
      "metadata": {
        "id": "HlAqAyt4C46W"
      },
      "source": [
        "#QUESTÃO 7: Qual o valor médio gasto caso se esteja completando o álbum com mais de um amigo?\n",
        "\n",
        "def SimulaAlbumPlus(n_amigos):\n",
        "  #Criar album\n",
        "  album = np.zeros(n_album)\n",
        "  pacotes = 0;\n",
        "\n",
        "  while True:\n",
        "    #Comprar Pacote\n",
        "    pacotinho = np.random.choice(np.arange(0,n_album), size =4)\n",
        "    pacotes += 1\n",
        "    for i in [0, 1, 2, 3]:\n",
        "      #colar no album\n",
        "      album[pacotinho[i]] += 1\n",
        "    \n",
        "    if np.all(album >= n_amigos):\n",
        "      break\n",
        "\n",
        "  custo = pacotes*preco_pacote + preco_album\n",
        "  return custo/n_amigos\n"
      ],
      "execution_count": null,
      "outputs": []
    },
    {
      "cell_type": "code",
      "metadata": {
        "id": "hz7VZNgQEBrP"
      },
      "source": [
        "#SIMULAÇÃO\n",
        "s2 = 10000\n",
        "resultados2 = []\n",
        "for i in range(s2):\n",
        "  resultados2.append(SimulaAlbumPlus(2))\n",
        "\n",
        "sim2 = np.array(resultados2)\n",
        "\n"
      ],
      "execution_count": null,
      "outputs": []
    },
    {
      "cell_type": "code",
      "metadata": {
        "colab": {
          "base_uri": "https://localhost:8080/"
        },
        "id": "EgrHO0J0FHbg",
        "outputId": "98b54481-3095-4761-b1dd-8f1198fa53c3"
      },
      "source": [
        "sim2.mean()"
      ],
      "execution_count": null,
      "outputs": [
        {
          "output_type": "execute_result",
          "data": {
            "text/plain": [
              "867.025"
            ]
          },
          "metadata": {
            "tags": []
          },
          "execution_count": 103
        }
      ]
    },
    {
      "cell_type": "code",
      "metadata": {
        "id": "sI9U0AhcC54H"
      },
      "source": [
        "#QUESTÃO 7: Qual o valor médio gasto caso se esteja completando o álbum com mais dois amigos?\n",
        "#SIMULAÇÃO\n",
        "s3 = 10000\n",
        "resultados3 = []\n",
        "for i in range(s3):\n",
        "  resultados3.append(SimulaAlbumPlus(3))\n",
        "\n",
        "sim3 = np.array(resultados2)"
      ],
      "execution_count": null,
      "outputs": []
    },
    {
      "cell_type": "code",
      "metadata": {
        "id": "UmCJKIXqFt-Y",
        "colab": {
          "base_uri": "https://localhost:8080/"
        },
        "outputId": "01a527d2-c04c-41d5-a214-3be0f0f4a776"
      },
      "source": [
        "sim3.mean()"
      ],
      "execution_count": 105,
      "outputs": [
        {
          "output_type": "execute_result",
          "data": {
            "text/plain": [
              "867.025"
            ]
          },
          "metadata": {
            "tags": []
          },
          "execution_count": 105
        }
      ]
    }
  ]
}