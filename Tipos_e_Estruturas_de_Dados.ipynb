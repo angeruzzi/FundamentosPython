{
  "nbformat": 4,
  "nbformat_minor": 0,
  "metadata": {
    "colab": {
      "name": "Tipos e Estruturas de Dados.ipynb",
      "provenance": [],
      "toc_visible": true,
      "authorship_tag": "ABX9TyNabDYOdXME4uZVrd1nBQLa",
      "include_colab_link": true
    },
    "kernelspec": {
      "name": "python3",
      "display_name": "Python 3"
    },
    "language_info": {
      "name": "python"
    }
  },
  "cells": [
    {
      "cell_type": "markdown",
      "metadata": {
        "id": "view-in-github",
        "colab_type": "text"
      },
      "source": [
        "<a href=\"https://colab.research.google.com/github/angeruzzi/FundamentosPython/blob/main/Tipos_e_Estruturas_de_Dados.ipynb\" target=\"_parent\"><img src=\"https://colab.research.google.com/assets/colab-badge.svg\" alt=\"Open In Colab\"/></a>"
      ]
    },
    {
      "cell_type": "markdown",
      "metadata": {
        "id": "stNgzEDSz17Q"
      },
      "source": [
        "#Variáveis e Tipagem"
      ]
    },
    {
      "cell_type": "code",
      "metadata": {
        "colab": {
          "base_uri": "https://localhost:8080/"
        },
        "id": "RIBDHDabzps4",
        "outputId": "6800e07e-9d12-4e18-917e-76720531ce1e"
      },
      "source": [
        "x = 5\n",
        "print(x)\n",
        "print(type(x))\n",
        "\n"
      ],
      "execution_count": 1,
      "outputs": [
        {
          "output_type": "stream",
          "name": "stdout",
          "text": [
            "5\n",
            "<class 'int'>\n"
          ]
        }
      ]
    },
    {
      "cell_type": "markdown",
      "metadata": {
        "id": "vjDP_kKe0Qcj"
      },
      "source": [
        "##Cast de Tipos"
      ]
    },
    {
      "cell_type": "code",
      "metadata": {
        "colab": {
          "base_uri": "https://localhost:8080/"
        },
        "id": "dGaT-5nt0Plf",
        "outputId": "da42f195-b15d-46d2-f24c-dc894e8fdbe0"
      },
      "source": [
        "print(float('123.25'))\n",
        "print(str(123.25))\n",
        "print(bool(''))\n",
        "print(bool('abc'))\n",
        "print(bool(0))\n",
        "print(bool(-2))"
      ],
      "execution_count": 2,
      "outputs": [
        {
          "output_type": "stream",
          "name": "stdout",
          "text": [
            "123.25\n",
            "123.25\n",
            "False\n",
            "True\n",
            "False\n",
            "True\n"
          ]
        }
      ]
    },
    {
      "cell_type": "markdown",
      "metadata": {
        "id": "s2hU4nSGLvjT"
      },
      "source": [
        "#Datas"
      ]
    },
    {
      "cell_type": "code",
      "metadata": {
        "id": "SR1OQDj7Lw2F"
      },
      "source": [
        ""
      ],
      "execution_count": null,
      "outputs": []
    },
    {
      "cell_type": "markdown",
      "metadata": {
        "id": "AfNb0w_CLWeB"
      },
      "source": [
        "#Listas"
      ]
    },
    {
      "cell_type": "code",
      "metadata": {
        "colab": {
          "base_uri": "https://localhost:8080/"
        },
        "id": "41DhK-RaLuhX",
        "outputId": "c6541108-ea41-44c6-bc8e-5b4533c0a129"
      },
      "source": [
        "nomes_paises = ['Brasil', 'Argentina', 'China', 'Canadá', 'Japão']\n",
        "print(nomes_paises)\n",
        "print('Tamanho da lista:', len(nomes_paises))\n",
        "print('5º item:', nomes_paises[4])\n",
        "print('Último item:', nomes_paises[-1])\n",
        "\n",
        "#Alteração de um item\n",
        "print('5º item alterado:')\n",
        "nomes_paises[4] = 'Colômbia'\n",
        "print(nomes_paises)\n",
        "\n",
        "#Slice\n",
        "#Retorna da posição 1 a 4 (Não inclusa)\n",
        "print(nomes_paises[1:4])\n",
        "#Retorna da posição 2 adiante\n",
        "print(nomes_paises[2:])\n",
        "#Retorna os itens antes da posição 3\n",
        "print(nomes_paises[:3])\n",
        "\n",
        "#Step\n",
        "#Retorna os itens de 2 em 2 posições\n",
        "print(nomes_paises[::2])\n",
        "#Retorna a lista invertida\n",
        "print(nomes_paises[::-1])\n",
        "\n",
        "#Verifica se o item está ou não contido na lista\n",
        "print(\"Brasil\" in nomes_paises)\n",
        "print(\"Canadá\" not in nomes_paises)\n",
        "\n",
        "#Inclui um item no final da lista\n",
        "nomes_paises.append('Alemanha')\n",
        "print(nomes_paises)\n",
        "\n",
        "#Inclui um item na posição 3\n",
        "nomes_paises.insert(3, 'EUA')\n",
        "print(nomes_paises)\n",
        "\n",
        "#Remove um item da lista\n",
        "nomes_paises.remove('Canadá')\n",
        "print(nomes_paises)"
      ],
      "execution_count": 7,
      "outputs": [
        {
          "output_type": "stream",
          "name": "stdout",
          "text": [
            "['Brasil', 'Argentina', 'China', 'Canadá', 'Japão']\n",
            "Tamanho da lista: 5\n",
            "5º item: Japão\n",
            "Último item: Japão\n",
            "5º item alterado:\n",
            "['Brasil', 'Argentina', 'China', 'Canadá', 'Colômbia']\n",
            "['Argentina', 'China', 'Canadá']\n",
            "['China', 'Canadá', 'Colômbia']\n",
            "['Brasil', 'Argentina', 'China']\n",
            "['Brasil', 'China', 'Colômbia']\n",
            "['Colômbia', 'Canadá', 'China', 'Argentina', 'Brasil']\n",
            "True\n",
            "False\n",
            "['Brasil', 'Argentina', 'China', 'Canadá', 'Colômbia', 'Alemanha']\n",
            "['Brasil', 'Argentina', 'China', 'EUA', 'Canadá', 'Colômbia', 'Alemanha']\n",
            "['Brasil', 'Argentina', 'China', 'EUA', 'Colômbia', 'Alemanha']\n"
          ]
        }
      ]
    },
    {
      "cell_type": "markdown",
      "metadata": {
        "id": "xs491E0_LsQZ"
      },
      "source": [
        "#Strings"
      ]
    },
    {
      "cell_type": "code",
      "metadata": {
        "id": "-6cQstrXLYln"
      },
      "source": [
        ""
      ],
      "execution_count": null,
      "outputs": []
    },
    {
      "cell_type": "markdown",
      "metadata": {
        "id": "aOgr9fYRLZMj"
      },
      "source": [
        "#Tuplas"
      ]
    },
    {
      "cell_type": "code",
      "metadata": {
        "id": "UhWuFchtLc1d"
      },
      "source": [
        ""
      ],
      "execution_count": null,
      "outputs": []
    },
    {
      "cell_type": "markdown",
      "metadata": {
        "id": "cJTDUTobLdKm"
      },
      "source": [
        "#Dicionários"
      ]
    },
    {
      "cell_type": "code",
      "metadata": {
        "id": "UzKYTCoLLg15"
      },
      "source": [
        ""
      ],
      "execution_count": null,
      "outputs": []
    }
  ]
}