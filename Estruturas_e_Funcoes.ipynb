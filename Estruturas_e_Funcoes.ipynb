{
  "nbformat": 4,
  "nbformat_minor": 0,
  "metadata": {
    "colab": {
      "name": "Estruturas e Funcoes.ipynb",
      "provenance": [],
      "authorship_tag": "ABX9TyNgOo6uUkmhWxOLefDTmwEU",
      "include_colab_link": true
    },
    "kernelspec": {
      "name": "python3",
      "display_name": "Python 3"
    },
    "language_info": {
      "name": "python"
    }
  },
  "cells": [
    {
      "cell_type": "markdown",
      "metadata": {
        "id": "view-in-github",
        "colab_type": "text"
      },
      "source": [
        "<a href=\"https://colab.research.google.com/github/angeruzzi/FundamentosPython/blob/main/Estruturas_e_Funcoes.ipynb\" target=\"_parent\"><img src=\"https://colab.research.google.com/assets/colab-badge.svg\" alt=\"Open In Colab\"/></a>"
      ]
    },
    {
      "cell_type": "code",
      "metadata": {
        "colab": {
          "base_uri": "https://localhost:8080/"
        },
        "id": "eEbZIdYZ-03I",
        "outputId": "25ae8241-4558-485c-867c-80dddc4eac03"
      },
      "source": [
        "#Estrutura Condicional\n",
        "\n",
        "condicaoA = False\n",
        "condicaoB = True\n",
        "\n",
        "if condicaoA: \n",
        "  print('condicaoA true')\n",
        "elif condicaoA or condicaoB:\n",
        "  print('Uma das condições é true')\n",
        "else:\n",
        "  print('Nenhuma das condições é true')"
      ],
      "execution_count": 8,
      "outputs": [
        {
          "output_type": "stream",
          "text": [
            "Uma das condições é true\n"
          ],
          "name": "stdout"
        }
      ]
    },
    {
      "cell_type": "code",
      "metadata": {
        "colab": {
          "base_uri": "https://localhost:8080/"
        },
        "id": "UIbeVYgY_YW8",
        "outputId": "0f485505-5685-488a-dbe4-a76c45141f7e"
      },
      "source": [
        "#Estrutura de Repetição\n",
        "A = [1, 2, 3, 4, 5, 6]\n",
        "\n",
        "#For\n",
        "print(\"teste for\")\n",
        "for a in A:\n",
        "  print(a)\n",
        "  print(\"...\")\n",
        "print(\"fim for\")\n",
        "\n",
        "#While\n",
        "condicao = True\n",
        "contador = 0\n",
        "print(\"teste while\")\n",
        "while condicao:\n",
        "  print(A[contador])\n",
        "  print(\"...\")\n",
        "  if contador == 5:\n",
        "    condicao = False\n",
        "  else:\n",
        "    contador += 1\n",
        "print(\"fim while\")"
      ],
      "execution_count": 16,
      "outputs": [
        {
          "output_type": "stream",
          "text": [
            "teste for\n",
            "1\n",
            "...\n",
            "2\n",
            "...\n",
            "3\n",
            "...\n",
            "4\n",
            "...\n",
            "5\n",
            "...\n",
            "6\n",
            "...\n",
            "fim for\n",
            "teste while\n",
            "1\n",
            "...\n",
            "2\n",
            "...\n",
            "3\n",
            "...\n",
            "4\n",
            "...\n",
            "5\n",
            "...\n",
            "6\n",
            "...\n",
            "fim while\n"
          ],
          "name": "stdout"
        }
      ]
    },
    {
      "cell_type": "code",
      "metadata": {
        "colab": {
          "base_uri": "https://localhost:8080/"
        },
        "id": "wK4vDCLu_FNT",
        "outputId": "3d94d260-549f-4fde-a878-e9bbd4df0a9d"
      },
      "source": [
        "#Função\n",
        "\n",
        "def soma1(entrada):\n",
        "  return entrada + 1\n",
        "\n",
        "soma1(27)"
      ],
      "execution_count": 4,
      "outputs": [
        {
          "output_type": "execute_result",
          "data": {
            "text/plain": [
              "28"
            ]
          },
          "metadata": {
            "tags": []
          },
          "execution_count": 4
        }
      ]
    },
    {
      "cell_type": "code",
      "metadata": {
        "id": "jyozzCKnIjws"
      },
      "source": [
        "#Teste de Função: Fórmula de Bhaskara\n",
        "def Bhascara(a, b, c):\n",
        "  delta = b**2 - 4*a*c \n",
        "\n",
        "  if delta >0:\n",
        "    x1 = round((-b + delta**(1/2))/(2*a),3)\n",
        "    x2 = round((-b - delta**(1/2))/(2*a),3)\n",
        "    print('As raízes são {} e {}'.format(x1,x2))\n",
        "  elif delta == 0:\n",
        "    x = -b/(2*a)\n",
        "    print('A raíz é {}'.format(x))\n",
        "  else:\n",
        "    print('A equação não possui raízes reais')\n"
      ],
      "execution_count": 10,
      "outputs": []
    },
    {
      "cell_type": "code",
      "metadata": {
        "colab": {
          "base_uri": "https://localhost:8080/"
        },
        "id": "HUxKqDlhq8pa",
        "outputId": "62e4c4df-27fa-4665-fba0-5113ead15721"
      },
      "source": [
        "Bhascara(4,4,1)"
      ],
      "execution_count": 5,
      "outputs": [
        {
          "output_type": "stream",
          "text": [
            "A raíz é -0.5\n"
          ],
          "name": "stdout"
        }
      ]
    },
    {
      "cell_type": "code",
      "metadata": {
        "colab": {
          "base_uri": "https://localhost:8080/"
        },
        "id": "PL9f2aJ1rBUA",
        "outputId": "01514782-0518-4c3e-e80c-6488a09b6f26"
      },
      "source": [
        "Bhascara(2,4,1)"
      ],
      "execution_count": 11,
      "outputs": [
        {
          "output_type": "stream",
          "text": [
            "As raízes são -0.293 e -1.707\n"
          ],
          "name": "stdout"
        }
      ]
    },
    {
      "cell_type": "code",
      "metadata": {
        "id": "uVUZahFArDcb"
      },
      "source": [
        ""
      ],
      "execution_count": null,
      "outputs": []
    }
  ]
}