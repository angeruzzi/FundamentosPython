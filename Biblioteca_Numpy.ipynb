{
  "nbformat": 4,
  "nbformat_minor": 0,
  "metadata": {
    "colab": {
      "name": "Biblioteca Numpy",
      "provenance": [],
      "authorship_tag": "ABX9TyMOS+EXrA2jcQHbbmoPh5f7",
      "include_colab_link": true
    },
    "kernelspec": {
      "name": "python3",
      "display_name": "Python 3"
    },
    "language_info": {
      "name": "python"
    }
  },
  "cells": [
    {
      "cell_type": "markdown",
      "metadata": {
        "id": "view-in-github",
        "colab_type": "text"
      },
      "source": [
        "<a href=\"https://colab.research.google.com/github/angeruzzi/FundamentosPython/blob/main/Biblioteca_Numpy.ipynb\" target=\"_parent\"><img src=\"https://colab.research.google.com/assets/colab-badge.svg\" alt=\"Open In Colab\"/></a>"
      ]
    },
    {
      "cell_type": "markdown",
      "metadata": {
        "id": "Ckc8MGXhs0Iq"
      },
      "source": [
        "A Biblioteca numpy é utilizada para manipulação e cálculos em Arrays\n"
      ]
    },
    {
      "cell_type": "code",
      "metadata": {
        "id": "UK87c1DPtvdC"
      },
      "source": [
        "import numpy as np"
      ],
      "execution_count": 1,
      "outputs": []
    },
    {
      "cell_type": "code",
      "metadata": {
        "colab": {
          "base_uri": "https://localhost:8080/"
        },
        "id": "2jyFeEletz-Q",
        "outputId": "afa70501-4961-40d4-d488-5654a7ec5aef"
      },
      "source": [
        "#Declaração de um ndarray, o objeto de tipo array utilizado pela biblioteca\n",
        "np.array([1,2,3,4])\n"
      ],
      "execution_count": 2,
      "outputs": [
        {
          "output_type": "execute_result",
          "data": {
            "text/plain": [
              "array([1, 2, 3, 4])"
            ]
          },
          "metadata": {
            "tags": []
          },
          "execution_count": 2
        }
      ]
    },
    {
      "cell_type": "code",
      "metadata": {
        "colab": {
          "base_uri": "https://localhost:8080/"
        },
        "id": "1W46jJM3A5Qy",
        "outputId": "706603eb-3fc6-4cc4-c103-9e217f0dbfd7"
      },
      "source": [
        "type(np.array([1,2,3,4]))"
      ],
      "execution_count": 41,
      "outputs": [
        {
          "output_type": "execute_result",
          "data": {
            "text/plain": [
              "numpy.ndarray"
            ]
          },
          "metadata": {
            "tags": []
          },
          "execution_count": 41
        }
      ]
    },
    {
      "cell_type": "code",
      "metadata": {
        "colab": {
          "base_uri": "https://localhost:8080/"
        },
        "id": "Mnb-cnMPuLqd",
        "outputId": "9c454fb1-d0f8-42e4-9d25-dfc33b12d0ad"
      },
      "source": [
        "#Multiplicação em uma lista simples\n",
        "3*[1,2,3,4]"
      ],
      "execution_count": 4,
      "outputs": [
        {
          "output_type": "execute_result",
          "data": {
            "text/plain": [
              "[1, 2, 3, 4, 1, 2, 3, 4, 1, 2, 3, 4]"
            ]
          },
          "metadata": {
            "tags": []
          },
          "execution_count": 4
        }
      ]
    },
    {
      "cell_type": "code",
      "metadata": {
        "colab": {
          "base_uri": "https://localhost:8080/"
        },
        "id": "YClgptRvuTcn",
        "outputId": "8d47daa2-f201-4f3b-eab4-c1e3371ba583"
      },
      "source": [
        "#Multiplicação em um ndarray\n",
        "3*np.array([1,2,3,4])"
      ],
      "execution_count": 5,
      "outputs": [
        {
          "output_type": "execute_result",
          "data": {
            "text/plain": [
              "array([ 3,  6,  9, 12])"
            ]
          },
          "metadata": {
            "tags": []
          },
          "execution_count": 5
        }
      ]
    },
    {
      "cell_type": "code",
      "metadata": {
        "colab": {
          "base_uri": "https://localhost:8080/"
        },
        "id": "jDX0-FQnupX-",
        "outputId": "4062941e-4567-48d7-e3c5-be8d3e9cd178"
      },
      "source": [
        "#Bidimensional\n",
        "n2 = np.array([[1,2,3,4],[3,2,4,6]])\n",
        "\n",
        "#Dimensões do array\n",
        "n2.shape"
      ],
      "execution_count": 17,
      "outputs": [
        {
          "output_type": "execute_result",
          "data": {
            "text/plain": [
              "(2, 4)"
            ]
          },
          "metadata": {
            "tags": []
          },
          "execution_count": 17
        }
      ]
    },
    {
      "cell_type": "code",
      "metadata": {
        "colab": {
          "base_uri": "https://localhost:8080/"
        },
        "id": "bwc1ssEBut7D",
        "outputId": "09ca3cca-b2e5-4879-a73e-d9cf99a2ac72"
      },
      "source": [
        "#Preenchimento do array com preenchimento Automático\n",
        "n3 = np.arange(10,33,2)\n",
        "n3"
      ],
      "execution_count": 24,
      "outputs": [
        {
          "output_type": "execute_result",
          "data": {
            "text/plain": [
              "array([10, 12, 14, 16, 18, 20, 22, 24, 26, 28, 30, 32])"
            ]
          },
          "metadata": {
            "tags": []
          },
          "execution_count": 24
        }
      ]
    },
    {
      "cell_type": "code",
      "metadata": {
        "colab": {
          "base_uri": "https://localhost:8080/"
        },
        "id": "zDYrytMdvkQm",
        "outputId": "11f59f0e-c602-4950-b74f-445e9c0184f6"
      },
      "source": [
        "#Reorganização do array\n",
        "n3.reshape((3,4))"
      ],
      "execution_count": 25,
      "outputs": [
        {
          "output_type": "execute_result",
          "data": {
            "text/plain": [
              "array([[10, 12, 14, 16],\n",
              "       [18, 20, 22, 24],\n",
              "       [26, 28, 30, 32]])"
            ]
          },
          "metadata": {
            "tags": []
          },
          "execution_count": 25
        }
      ]
    },
    {
      "cell_type": "code",
      "metadata": {
        "colab": {
          "base_uri": "https://localhost:8080/"
        },
        "id": "kCVuIKt3zvM9",
        "outputId": "6cdf37c9-63ef-4d48-c04b-84d4eabd0512"
      },
      "source": [
        "#Geração randômica de arrays\n",
        "np.random.random((5,2))"
      ],
      "execution_count": 32,
      "outputs": [
        {
          "output_type": "execute_result",
          "data": {
            "text/plain": [
              "array([[0.5275964 , 0.85256688],\n",
              "       [0.75165654, 0.67931598],\n",
              "       [0.98139294, 0.66834041],\n",
              "       [0.88805603, 0.18546733],\n",
              "       [0.54089079, 0.31291425]])"
            ]
          },
          "metadata": {
            "tags": []
          },
          "execution_count": 32
        }
      ]
    },
    {
      "cell_type": "code",
      "metadata": {
        "colab": {
          "base_uri": "https://localhost:8080/"
        },
        "id": "Ie5GOIeUv51S",
        "outputId": "62ad95be-f8e5-44c0-bfe7-94fadcc37e6e"
      },
      "source": [
        "np.random.choice([1, 2, 3, 4, 5], size = 3)"
      ],
      "execution_count": 26,
      "outputs": [
        {
          "output_type": "execute_result",
          "data": {
            "text/plain": [
              "array([5, 5, 1])"
            ]
          },
          "metadata": {
            "tags": []
          },
          "execution_count": 26
        }
      ]
    },
    {
      "cell_type": "code",
      "metadata": {
        "colab": {
          "base_uri": "https://localhost:8080/"
        },
        "id": "jl5jzImIzEuT",
        "outputId": "5823c0fd-86f1-4fa9-e3a0-198e03b47a8e"
      },
      "source": [
        "#Teste de Valores\n",
        "np.all([True,True,True,True,True])"
      ],
      "execution_count": 34,
      "outputs": [
        {
          "output_type": "execute_result",
          "data": {
            "text/plain": [
              "True"
            ]
          },
          "metadata": {
            "tags": []
          },
          "execution_count": 34
        }
      ]
    },
    {
      "cell_type": "code",
      "metadata": {
        "colab": {
          "base_uri": "https://localhost:8080/"
        },
        "id": "i-v87WlB0tVZ",
        "outputId": "87753550-5d23-44d4-ee56-e42579c42a0a"
      },
      "source": [
        "np.any([True,False,False,False,False])"
      ],
      "execution_count": 35,
      "outputs": [
        {
          "output_type": "execute_result",
          "data": {
            "text/plain": [
              "True"
            ]
          },
          "metadata": {
            "tags": []
          },
          "execution_count": 35
        }
      ]
    },
    {
      "cell_type": "code",
      "metadata": {
        "colab": {
          "base_uri": "https://localhost:8080/"
        },
        "id": "lwaCP5fj08x6",
        "outputId": "148967d0-e4e4-4acb-c6b0-4232cb3c03a3"
      },
      "source": [
        "#Operações entre arrays\n",
        "\n",
        "a = np.array([[1.0, 2.0], [3.0, 4.0]])\n",
        "b = np.array([[5.0, 6.0], [7.0, 8.0]])\n",
        "\n",
        "#Por Elemento\n",
        "print('Soma = \\n', a + b)\n",
        "print('\\n')\n",
        "print('Diferença = \\n', a - b)\n",
        "print('\\n')\n",
        "print('Multiplicação  = \\n', a * b)\n",
        "print('\\n')\n",
        "print('Divisão = \\n', a / b)"
      ],
      "execution_count": 39,
      "outputs": [
        {
          "output_type": "stream",
          "text": [
            "Soma = \n",
            " [[ 6.  8.]\n",
            " [10. 12.]]\n",
            "\n",
            "\n",
            "Diferença = \n",
            " [[-4. -4.]\n",
            " [-4. -4.]]\n",
            "\n",
            "\n",
            "Multiplicação  = \n",
            " [[ 5. 12.]\n",
            " [21. 32.]]\n",
            "\n",
            "\n",
            "Divisão = \n",
            " [[0.2        0.33333333]\n",
            " [0.42857143 0.5       ]]\n"
          ],
          "name": "stdout"
        }
      ]
    },
    {
      "cell_type": "code",
      "metadata": {
        "colab": {
          "base_uri": "https://localhost:8080/"
        },
        "id": "iAd03TBe7y0Q",
        "outputId": "7ddd27bd-857e-4f21-f556-cc34024f4616"
      },
      "source": [
        "print('Multiplicação de Matriz = \\n', a.dot(b))"
      ],
      "execution_count": 40,
      "outputs": [
        {
          "output_type": "stream",
          "text": [
            "Multiplicação de Matriz = \n",
            " [[19. 22.]\n",
            " [43. 50.]]\n"
          ],
          "name": "stdout"
        }
      ]
    },
    {
      "cell_type": "code",
      "metadata": {
        "id": "qp_UpIen8jG-"
      },
      "source": [
        ""
      ],
      "execution_count": null,
      "outputs": []
    }
  ]
}