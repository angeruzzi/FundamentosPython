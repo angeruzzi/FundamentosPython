{
  "nbformat": 4,
  "nbformat_minor": 0,
  "metadata": {
    "colab": {
      "name": "Operadores",
      "provenance": [],
      "authorship_tag": "ABX9TyMKWFBAgSl2smmD/y3I7J7L",
      "include_colab_link": true
    },
    "kernelspec": {
      "name": "python3",
      "display_name": "Python 3"
    },
    "language_info": {
      "name": "python"
    }
  },
  "cells": [
    {
      "cell_type": "markdown",
      "metadata": {
        "id": "view-in-github",
        "colab_type": "text"
      },
      "source": [
        "<a href=\"https://colab.research.google.com/github/angeruzzi/PythonReference/blob/main/Operadores.ipynb\" target=\"_parent\"><img src=\"https://colab.research.google.com/assets/colab-badge.svg\" alt=\"Open In Colab\"/></a>"
      ]
    },
    {
      "cell_type": "code",
      "metadata": {
        "colab": {
          "base_uri": "https://localhost:8080/"
        },
        "id": "BkM-Pz1bpLbF",
        "outputId": "530f417b-ae3e-41b1-9f83-6bcb085acc20"
      },
      "source": [
        "#Operadores Aritméticos\n",
        "a = 2\n",
        "b = 3\n",
        "print('Soma             :' , a+b)\n",
        "print('Subtração        :' , a-b)\n",
        "print('Divisão          :' , a/b)\n",
        "print('Multiplicação    :' , a*b)\n",
        "print('Exponenciação    :' , a**b)\n",
        "print('Resto da Divisão :' , b%a)\n",
        "print('Divisão Inteira  :' , b//a)"
      ],
      "execution_count": 11,
      "outputs": [
        {
          "output_type": "stream",
          "text": [
            "Soma             : 5\n",
            "Subtração        : -1\n",
            "Divisão          : 0.6666666666666666\n",
            "Multiplicação    : 6\n",
            "Exponenciação    : 8\n",
            "Resto da Divisão : 1\n",
            "Divisão Inteira  : 1\n"
          ],
          "name": "stdout"
        }
      ]
    },
    {
      "cell_type": "code",
      "metadata": {
        "colab": {
          "base_uri": "https://localhost:8080/"
        },
        "id": "wMO14Af7uB2c",
        "outputId": "c1ad4280-4d56-4f3c-958f-85eaa39a2abf"
      },
      "source": [
        "#Operadores de Comparação\n",
        "a = 2\n",
        "b = 3\n",
        "\n",
        "print('a Igual b              :' , a == b)\n",
        "print('a Diferente de b       :' , a != b)\n",
        "print('a Maior que b          :' , a  > b)\n",
        "print('a Menor que b          :' , a  < b)\n",
        "print('a Maior ou igual que b :' , a >= b)\n",
        "print('a Menor ou igual que b :' , a >= b)"
      ],
      "execution_count": 10,
      "outputs": [
        {
          "output_type": "stream",
          "text": [
            "a Igual b              : False\n",
            "a Diferente de b       : True\n",
            "a Maior que b          : False\n",
            "a Menor que b          : True\n",
            "a Maior ou igual que b : False\n",
            "a Menor ou igual que b : False\n"
          ],
          "name": "stdout"
        }
      ]
    },
    {
      "cell_type": "code",
      "metadata": {
        "colab": {
          "base_uri": "https://localhost:8080/"
        },
        "id": "y01qwRvTxsq9",
        "outputId": "9b4d4709-86a2-4716-df7d-b3935c42a23e"
      },
      "source": [
        "#Operadores lógicos\n",
        "q = True\n",
        "p = False\n",
        "\n",
        "print('q And p  :'  , q and p)\n",
        "print('q  Or p  :'  , q  or p)\n",
        "print('  not q  :'  ,   not q)"
      ],
      "execution_count": 13,
      "outputs": [
        {
          "output_type": "stream",
          "text": [
            "q And p  : False\n",
            "q  Or p  : True\n",
            "  not q  : False\n"
          ],
          "name": "stdout"
        }
      ]
    },
    {
      "cell_type": "code",
      "metadata": {
        "colab": {
          "base_uri": "https://localhost:8080/"
        },
        "id": "kj29Sn_-ygvl",
        "outputId": "fe5601e4-7a51-46f2-d311-235bf3439836"
      },
      "source": [
        "#Operadores de identidade\n",
        "\n",
        "x = 1\n",
        "y = \"palavra\"\n",
        "\n",
        "print('As variáveis são do mesmo Tipo?      :'  , x is y)\n",
        "print('As Variáveis não são do mesmo Tipo?  :'  , x is not y)"
      ],
      "execution_count": 16,
      "outputs": [
        {
          "output_type": "stream",
          "text": [
            "As variáveis são do mesmo Tipo?      : False\n",
            "As Variáveis não são do mesmo Tipo?  : True\n"
          ],
          "name": "stdout"
        }
      ]
    },
    {
      "cell_type": "code",
      "metadata": {
        "colab": {
          "base_uri": "https://localhost:8080/"
        },
        "id": "jXbQg5dez-4a",
        "outputId": "d16b83c4-a142-4b69-91d3-e8a2c63bd059"
      },
      "source": [
        "#Operadores de associação\n",
        "A = [1, 2, 3, 4, 5, 6]\n",
        "a = 2;\n",
        "b = 7;\n",
        "\n",
        "print('a está contido em A      :', a in A)\n",
        "print('b não está contido em A  :', b not in A)\n"
      ],
      "execution_count": 21,
      "outputs": [
        {
          "output_type": "stream",
          "text": [
            "a está contido em A      : True\n",
            "b não está contido em A  : True\n"
          ],
          "name": "stdout"
        }
      ]
    },
    {
      "cell_type": "code",
      "metadata": {
        "id": "esH8jezW9kml"
      },
      "source": [
        ""
      ],
      "execution_count": null,
      "outputs": []
    }
  ]
}