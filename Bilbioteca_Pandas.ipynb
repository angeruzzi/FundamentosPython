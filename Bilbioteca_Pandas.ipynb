{
  "nbformat": 4,
  "nbformat_minor": 0,
  "metadata": {
    "colab": {
      "name": "Bilbioteca Pandas",
      "provenance": [],
      "authorship_tag": "ABX9TyMYpQsihFStX+lWZo1li24H",
      "include_colab_link": true
    },
    "kernelspec": {
      "name": "python3",
      "display_name": "Python 3"
    },
    "language_info": {
      "name": "python"
    }
  },
  "cells": [
    {
      "cell_type": "markdown",
      "metadata": {
        "id": "view-in-github",
        "colab_type": "text"
      },
      "source": [
        "<a href=\"https://colab.research.google.com/github/angeruzzi/FundamentosPython/blob/main/Bilbioteca_Pandas.ipynb\" target=\"_parent\"><img src=\"https://colab.research.google.com/assets/colab-badge.svg\" alt=\"Open In Colab\"/></a>"
      ]
    },
    {
      "cell_type": "code",
      "metadata": {
        "id": "EG391-hG-780"
      },
      "source": [
        "import pandas as pd\n",
        "import numpy as np"
      ],
      "execution_count": 9,
      "outputs": []
    },
    {
      "cell_type": "code",
      "metadata": {
        "id": "YWuzsU9sERuY"
      },
      "source": [
        "#Dados para os exercícios\n",
        "#Notas de Provas de Alunos\n",
        "parametros = {'low':2, 'high': 9, 'size':28}\n",
        "nts = np.random.uniform(**parametros).reshape(7,4).round(1)\n",
        "nomes = ['Alice','Bruno','Carla','David','Emily','Fabio', 'Gisele']\n",
        "colunas = ['P1', 'P2', 'P3', 'P4']"
      ],
      "execution_count": 69,
      "outputs": []
    },
    {
      "cell_type": "code",
      "metadata": {
        "colab": {
          "base_uri": "https://localhost:8080/",
          "height": 254
        },
        "id": "q0t_2rzEChPC",
        "outputId": "bb904d2e-064d-4de2-c9f4-da484505c701"
      },
      "source": [
        "#DataFrames \n",
        "notas = pd.DataFrame(nts, index = nomes, columns = colunas)\n",
        "notas"
      ],
      "execution_count": 39,
      "outputs": [
        {
          "output_type": "execute_result",
          "data": {
            "text/html": [
              "<div>\n",
              "<style scoped>\n",
              "    .dataframe tbody tr th:only-of-type {\n",
              "        vertical-align: middle;\n",
              "    }\n",
              "\n",
              "    .dataframe tbody tr th {\n",
              "        vertical-align: top;\n",
              "    }\n",
              "\n",
              "    .dataframe thead th {\n",
              "        text-align: right;\n",
              "    }\n",
              "</style>\n",
              "<table border=\"1\" class=\"dataframe\">\n",
              "  <thead>\n",
              "    <tr style=\"text-align: right;\">\n",
              "      <th></th>\n",
              "      <th>P1</th>\n",
              "      <th>P2</th>\n",
              "      <th>P3</th>\n",
              "      <th>P4</th>\n",
              "    </tr>\n",
              "  </thead>\n",
              "  <tbody>\n",
              "    <tr>\n",
              "      <th>Alice</th>\n",
              "      <td>7.5</td>\n",
              "      <td>3.6</td>\n",
              "      <td>2.8</td>\n",
              "      <td>5.6</td>\n",
              "    </tr>\n",
              "    <tr>\n",
              "      <th>Bruno</th>\n",
              "      <td>5.0</td>\n",
              "      <td>5.5</td>\n",
              "      <td>2.8</td>\n",
              "      <td>8.8</td>\n",
              "    </tr>\n",
              "    <tr>\n",
              "      <th>Carla</th>\n",
              "      <td>3.5</td>\n",
              "      <td>8.2</td>\n",
              "      <td>8.7</td>\n",
              "      <td>7.3</td>\n",
              "    </tr>\n",
              "    <tr>\n",
              "      <th>David</th>\n",
              "      <td>4.3</td>\n",
              "      <td>3.7</td>\n",
              "      <td>2.2</td>\n",
              "      <td>2.1</td>\n",
              "    </tr>\n",
              "    <tr>\n",
              "      <th>Emily</th>\n",
              "      <td>5.5</td>\n",
              "      <td>5.6</td>\n",
              "      <td>7.9</td>\n",
              "      <td>6.2</td>\n",
              "    </tr>\n",
              "    <tr>\n",
              "      <th>Fabio</th>\n",
              "      <td>2.7</td>\n",
              "      <td>4.1</td>\n",
              "      <td>6.4</td>\n",
              "      <td>5.8</td>\n",
              "    </tr>\n",
              "    <tr>\n",
              "      <th>Gisele</th>\n",
              "      <td>3.7</td>\n",
              "      <td>8.8</td>\n",
              "      <td>3.4</td>\n",
              "      <td>5.7</td>\n",
              "    </tr>\n",
              "  </tbody>\n",
              "</table>\n",
              "</div>"
            ],
            "text/plain": [
              "         P1   P2   P3   P4\n",
              "Alice   7.5  3.6  2.8  5.6\n",
              "Bruno   5.0  5.5  2.8  8.8\n",
              "Carla   3.5  8.2  8.7  7.3\n",
              "David   4.3  3.7  2.2  2.1\n",
              "Emily   5.5  5.6  7.9  6.2\n",
              "Fabio   2.7  4.1  6.4  5.8\n",
              "Gisele  3.7  8.8  3.4  5.7"
            ]
          },
          "metadata": {
            "tags": []
          },
          "execution_count": 39
        }
      ]
    },
    {
      "cell_type": "code",
      "metadata": {
        "colab": {
          "base_uri": "https://localhost:8080/",
          "height": 166
        },
        "id": "TYsBpJX7CvZC",
        "outputId": "d9d9346c-572c-428e-98e7-e9066f1c665a"
      },
      "source": [
        "#Transpose\n",
        "notas.T"
      ],
      "execution_count": 24,
      "outputs": [
        {
          "output_type": "execute_result",
          "data": {
            "text/html": [
              "<div>\n",
              "<style scoped>\n",
              "    .dataframe tbody tr th:only-of-type {\n",
              "        vertical-align: middle;\n",
              "    }\n",
              "\n",
              "    .dataframe tbody tr th {\n",
              "        vertical-align: top;\n",
              "    }\n",
              "\n",
              "    .dataframe thead th {\n",
              "        text-align: right;\n",
              "    }\n",
              "</style>\n",
              "<table border=\"1\" class=\"dataframe\">\n",
              "  <thead>\n",
              "    <tr style=\"text-align: right;\">\n",
              "      <th></th>\n",
              "      <th>Alice</th>\n",
              "      <th>Bruno</th>\n",
              "      <th>Carla</th>\n",
              "      <th>David</th>\n",
              "      <th>Emily</th>\n",
              "      <th>Fabio</th>\n",
              "      <th>Gisele</th>\n",
              "    </tr>\n",
              "  </thead>\n",
              "  <tbody>\n",
              "    <tr>\n",
              "      <th>P1</th>\n",
              "      <td>7.5</td>\n",
              "      <td>5.0</td>\n",
              "      <td>3.5</td>\n",
              "      <td>4.3</td>\n",
              "      <td>5.5</td>\n",
              "      <td>2.7</td>\n",
              "      <td>3.7</td>\n",
              "    </tr>\n",
              "    <tr>\n",
              "      <th>P2</th>\n",
              "      <td>3.6</td>\n",
              "      <td>5.5</td>\n",
              "      <td>8.2</td>\n",
              "      <td>3.7</td>\n",
              "      <td>5.6</td>\n",
              "      <td>4.1</td>\n",
              "      <td>8.8</td>\n",
              "    </tr>\n",
              "    <tr>\n",
              "      <th>P3</th>\n",
              "      <td>2.8</td>\n",
              "      <td>2.8</td>\n",
              "      <td>8.7</td>\n",
              "      <td>2.2</td>\n",
              "      <td>7.9</td>\n",
              "      <td>6.4</td>\n",
              "      <td>3.4</td>\n",
              "    </tr>\n",
              "    <tr>\n",
              "      <th>P4</th>\n",
              "      <td>5.6</td>\n",
              "      <td>8.8</td>\n",
              "      <td>7.3</td>\n",
              "      <td>2.1</td>\n",
              "      <td>6.2</td>\n",
              "      <td>5.8</td>\n",
              "      <td>5.7</td>\n",
              "    </tr>\n",
              "  </tbody>\n",
              "</table>\n",
              "</div>"
            ],
            "text/plain": [
              "    Alice  Bruno  Carla  David  Emily  Fabio  Gisele\n",
              "P1    7.5    5.0    3.5    4.3    5.5    2.7     3.7\n",
              "P2    3.6    5.5    8.2    3.7    5.6    4.1     8.8\n",
              "P3    2.8    2.8    8.7    2.2    7.9    6.4     3.4\n",
              "P4    5.6    8.8    7.3    2.1    6.2    5.8     5.7"
            ]
          },
          "metadata": {
            "tags": []
          },
          "execution_count": 24
        }
      ]
    },
    {
      "cell_type": "code",
      "metadata": {
        "colab": {
          "base_uri": "https://localhost:8080/"
        },
        "id": "szhyRAqbHVad",
        "outputId": "379dc495-3472-4b89-dcea-eb2136731015"
      },
      "source": [
        "#Informações Gerais dos Dados\n",
        "notas.info()"
      ],
      "execution_count": 25,
      "outputs": [
        {
          "output_type": "stream",
          "text": [
            "<class 'pandas.core.frame.DataFrame'>\n",
            "Index: 7 entries, Alice to Gisele\n",
            "Data columns (total 4 columns):\n",
            " #   Column  Non-Null Count  Dtype  \n",
            "---  ------  --------------  -----  \n",
            " 0   P1      7 non-null      float64\n",
            " 1   P2      7 non-null      float64\n",
            " 2   P3      7 non-null      float64\n",
            " 3   P4      7 non-null      float64\n",
            "dtypes: float64(4)\n",
            "memory usage: 600.0+ bytes\n"
          ],
          "name": "stdout"
        }
      ]
    },
    {
      "cell_type": "code",
      "metadata": {
        "colab": {
          "base_uri": "https://localhost:8080/"
        },
        "id": "OSQ_iHunHgPm",
        "outputId": "a0702c7c-c124-4ddd-848f-c421a680ace8"
      },
      "source": [
        "#Colunas\n",
        "notas.shape[1]\n",
        "#Linhas\n",
        "notas.shape[0]"
      ],
      "execution_count": 28,
      "outputs": [
        {
          "output_type": "execute_result",
          "data": {
            "text/plain": [
              "7"
            ]
          },
          "metadata": {
            "tags": []
          },
          "execution_count": 28
        }
      ]
    },
    {
      "cell_type": "code",
      "metadata": {
        "colab": {
          "base_uri": "https://localhost:8080/",
          "height": 195
        },
        "id": "M2iP_U9THrfq",
        "outputId": "1f5edec2-3ff4-4451-9a2f-d43ba4772951"
      },
      "source": [
        "\n",
        "notas.head()"
      ],
      "execution_count": 27,
      "outputs": [
        {
          "output_type": "execute_result",
          "data": {
            "text/html": [
              "<div>\n",
              "<style scoped>\n",
              "    .dataframe tbody tr th:only-of-type {\n",
              "        vertical-align: middle;\n",
              "    }\n",
              "\n",
              "    .dataframe tbody tr th {\n",
              "        vertical-align: top;\n",
              "    }\n",
              "\n",
              "    .dataframe thead th {\n",
              "        text-align: right;\n",
              "    }\n",
              "</style>\n",
              "<table border=\"1\" class=\"dataframe\">\n",
              "  <thead>\n",
              "    <tr style=\"text-align: right;\">\n",
              "      <th></th>\n",
              "      <th>P1</th>\n",
              "      <th>P2</th>\n",
              "      <th>P3</th>\n",
              "      <th>P4</th>\n",
              "    </tr>\n",
              "  </thead>\n",
              "  <tbody>\n",
              "    <tr>\n",
              "      <th>Alice</th>\n",
              "      <td>7.5</td>\n",
              "      <td>3.6</td>\n",
              "      <td>2.8</td>\n",
              "      <td>5.6</td>\n",
              "    </tr>\n",
              "    <tr>\n",
              "      <th>Bruno</th>\n",
              "      <td>5.0</td>\n",
              "      <td>5.5</td>\n",
              "      <td>2.8</td>\n",
              "      <td>8.8</td>\n",
              "    </tr>\n",
              "    <tr>\n",
              "      <th>Carla</th>\n",
              "      <td>3.5</td>\n",
              "      <td>8.2</td>\n",
              "      <td>8.7</td>\n",
              "      <td>7.3</td>\n",
              "    </tr>\n",
              "    <tr>\n",
              "      <th>David</th>\n",
              "      <td>4.3</td>\n",
              "      <td>3.7</td>\n",
              "      <td>2.2</td>\n",
              "      <td>2.1</td>\n",
              "    </tr>\n",
              "    <tr>\n",
              "      <th>Emily</th>\n",
              "      <td>5.5</td>\n",
              "      <td>5.6</td>\n",
              "      <td>7.9</td>\n",
              "      <td>6.2</td>\n",
              "    </tr>\n",
              "  </tbody>\n",
              "</table>\n",
              "</div>"
            ],
            "text/plain": [
              "        P1   P2   P3   P4\n",
              "Alice  7.5  3.6  2.8  5.6\n",
              "Bruno  5.0  5.5  2.8  8.8\n",
              "Carla  3.5  8.2  8.7  7.3\n",
              "David  4.3  3.7  2.2  2.1\n",
              "Emily  5.5  5.6  7.9  6.2"
            ]
          },
          "metadata": {
            "tags": []
          },
          "execution_count": 27
        }
      ]
    },
    {
      "cell_type": "code",
      "metadata": {
        "colab": {
          "base_uri": "https://localhost:8080/",
          "height": 195
        },
        "id": "MUWHVs4GH56A",
        "outputId": "8020f241-5ad6-4e6f-fcb9-00e2353263b1"
      },
      "source": [
        "#Ultimas Linhas do DataFrame\n",
        "notas.tail()"
      ],
      "execution_count": 34,
      "outputs": [
        {
          "output_type": "execute_result",
          "data": {
            "text/html": [
              "<div>\n",
              "<style scoped>\n",
              "    .dataframe tbody tr th:only-of-type {\n",
              "        vertical-align: middle;\n",
              "    }\n",
              "\n",
              "    .dataframe tbody tr th {\n",
              "        vertical-align: top;\n",
              "    }\n",
              "\n",
              "    .dataframe thead th {\n",
              "        text-align: right;\n",
              "    }\n",
              "</style>\n",
              "<table border=\"1\" class=\"dataframe\">\n",
              "  <thead>\n",
              "    <tr style=\"text-align: right;\">\n",
              "      <th></th>\n",
              "      <th>P1</th>\n",
              "      <th>P2</th>\n",
              "      <th>P3</th>\n",
              "      <th>P4</th>\n",
              "    </tr>\n",
              "  </thead>\n",
              "  <tbody>\n",
              "    <tr>\n",
              "      <th>Carla</th>\n",
              "      <td>3.5</td>\n",
              "      <td>8.2</td>\n",
              "      <td>8.7</td>\n",
              "      <td>7.3</td>\n",
              "    </tr>\n",
              "    <tr>\n",
              "      <th>David</th>\n",
              "      <td>4.3</td>\n",
              "      <td>3.7</td>\n",
              "      <td>2.2</td>\n",
              "      <td>2.1</td>\n",
              "    </tr>\n",
              "    <tr>\n",
              "      <th>Emily</th>\n",
              "      <td>5.5</td>\n",
              "      <td>5.6</td>\n",
              "      <td>7.9</td>\n",
              "      <td>6.2</td>\n",
              "    </tr>\n",
              "    <tr>\n",
              "      <th>Fabio</th>\n",
              "      <td>2.7</td>\n",
              "      <td>4.1</td>\n",
              "      <td>6.4</td>\n",
              "      <td>5.8</td>\n",
              "    </tr>\n",
              "    <tr>\n",
              "      <th>Gisele</th>\n",
              "      <td>3.7</td>\n",
              "      <td>8.8</td>\n",
              "      <td>3.4</td>\n",
              "      <td>5.7</td>\n",
              "    </tr>\n",
              "  </tbody>\n",
              "</table>\n",
              "</div>"
            ],
            "text/plain": [
              "         P1   P2   P3   P4\n",
              "Carla   3.5  8.2  8.7  7.3\n",
              "David   4.3  3.7  2.2  2.1\n",
              "Emily   5.5  5.6  7.9  6.2\n",
              "Fabio   2.7  4.1  6.4  5.8\n",
              "Gisele  3.7  8.8  3.4  5.7"
            ]
          },
          "metadata": {
            "tags": []
          },
          "execution_count": 34
        }
      ]
    },
    {
      "cell_type": "code",
      "metadata": {
        "colab": {
          "base_uri": "https://localhost:8080/",
          "height": 166
        },
        "id": "AULXIvoaHtVD",
        "outputId": "3f2cbc43-0be0-4af8-aeb8-aeb1760d406b"
      },
      "source": [
        "#Amostra dos dados\n",
        "notas.sample(4)"
      ],
      "execution_count": 32,
      "outputs": [
        {
          "output_type": "execute_result",
          "data": {
            "text/html": [
              "<div>\n",
              "<style scoped>\n",
              "    .dataframe tbody tr th:only-of-type {\n",
              "        vertical-align: middle;\n",
              "    }\n",
              "\n",
              "    .dataframe tbody tr th {\n",
              "        vertical-align: top;\n",
              "    }\n",
              "\n",
              "    .dataframe thead th {\n",
              "        text-align: right;\n",
              "    }\n",
              "</style>\n",
              "<table border=\"1\" class=\"dataframe\">\n",
              "  <thead>\n",
              "    <tr style=\"text-align: right;\">\n",
              "      <th></th>\n",
              "      <th>P1</th>\n",
              "      <th>P2</th>\n",
              "      <th>P3</th>\n",
              "      <th>P4</th>\n",
              "    </tr>\n",
              "  </thead>\n",
              "  <tbody>\n",
              "    <tr>\n",
              "      <th>Emily</th>\n",
              "      <td>5.5</td>\n",
              "      <td>5.6</td>\n",
              "      <td>7.9</td>\n",
              "      <td>6.2</td>\n",
              "    </tr>\n",
              "    <tr>\n",
              "      <th>Bruno</th>\n",
              "      <td>5.0</td>\n",
              "      <td>5.5</td>\n",
              "      <td>2.8</td>\n",
              "      <td>8.8</td>\n",
              "    </tr>\n",
              "    <tr>\n",
              "      <th>Alice</th>\n",
              "      <td>7.5</td>\n",
              "      <td>3.6</td>\n",
              "      <td>2.8</td>\n",
              "      <td>5.6</td>\n",
              "    </tr>\n",
              "    <tr>\n",
              "      <th>Gisele</th>\n",
              "      <td>3.7</td>\n",
              "      <td>8.8</td>\n",
              "      <td>3.4</td>\n",
              "      <td>5.7</td>\n",
              "    </tr>\n",
              "  </tbody>\n",
              "</table>\n",
              "</div>"
            ],
            "text/plain": [
              "         P1   P2   P3   P4\n",
              "Emily   5.5  5.6  7.9  6.2\n",
              "Bruno   5.0  5.5  2.8  8.8\n",
              "Alice   7.5  3.6  2.8  5.6\n",
              "Gisele  3.7  8.8  3.4  5.7"
            ]
          },
          "metadata": {
            "tags": []
          },
          "execution_count": 32
        }
      ]
    },
    {
      "cell_type": "code",
      "metadata": {
        "colab": {
          "base_uri": "https://localhost:8080/",
          "height": 284
        },
        "id": "DEF2D3dEICBT",
        "outputId": "8ba86398-b320-41f6-95ca-26e3b844d843"
      },
      "source": [
        "#Principais estatísticas dos dados\n",
        "notas.describe()"
      ],
      "execution_count": 35,
      "outputs": [
        {
          "output_type": "execute_result",
          "data": {
            "text/html": [
              "<div>\n",
              "<style scoped>\n",
              "    .dataframe tbody tr th:only-of-type {\n",
              "        vertical-align: middle;\n",
              "    }\n",
              "\n",
              "    .dataframe tbody tr th {\n",
              "        vertical-align: top;\n",
              "    }\n",
              "\n",
              "    .dataframe thead th {\n",
              "        text-align: right;\n",
              "    }\n",
              "</style>\n",
              "<table border=\"1\" class=\"dataframe\">\n",
              "  <thead>\n",
              "    <tr style=\"text-align: right;\">\n",
              "      <th></th>\n",
              "      <th>P1</th>\n",
              "      <th>P2</th>\n",
              "      <th>P3</th>\n",
              "      <th>P4</th>\n",
              "    </tr>\n",
              "  </thead>\n",
              "  <tbody>\n",
              "    <tr>\n",
              "      <th>count</th>\n",
              "      <td>7.000000</td>\n",
              "      <td>7.000000</td>\n",
              "      <td>7.000000</td>\n",
              "      <td>7.000000</td>\n",
              "    </tr>\n",
              "    <tr>\n",
              "      <th>mean</th>\n",
              "      <td>4.600000</td>\n",
              "      <td>5.642857</td>\n",
              "      <td>4.885714</td>\n",
              "      <td>5.928571</td>\n",
              "    </tr>\n",
              "    <tr>\n",
              "      <th>std</th>\n",
              "      <td>1.586401</td>\n",
              "      <td>2.115701</td>\n",
              "      <td>2.709507</td>\n",
              "      <td>2.042641</td>\n",
              "    </tr>\n",
              "    <tr>\n",
              "      <th>min</th>\n",
              "      <td>2.700000</td>\n",
              "      <td>3.600000</td>\n",
              "      <td>2.200000</td>\n",
              "      <td>2.100000</td>\n",
              "    </tr>\n",
              "    <tr>\n",
              "      <th>25%</th>\n",
              "      <td>3.600000</td>\n",
              "      <td>3.900000</td>\n",
              "      <td>2.800000</td>\n",
              "      <td>5.650000</td>\n",
              "    </tr>\n",
              "    <tr>\n",
              "      <th>50%</th>\n",
              "      <td>4.300000</td>\n",
              "      <td>5.500000</td>\n",
              "      <td>3.400000</td>\n",
              "      <td>5.800000</td>\n",
              "    </tr>\n",
              "    <tr>\n",
              "      <th>75%</th>\n",
              "      <td>5.250000</td>\n",
              "      <td>6.900000</td>\n",
              "      <td>7.150000</td>\n",
              "      <td>6.750000</td>\n",
              "    </tr>\n",
              "    <tr>\n",
              "      <th>max</th>\n",
              "      <td>7.500000</td>\n",
              "      <td>8.800000</td>\n",
              "      <td>8.700000</td>\n",
              "      <td>8.800000</td>\n",
              "    </tr>\n",
              "  </tbody>\n",
              "</table>\n",
              "</div>"
            ],
            "text/plain": [
              "             P1        P2        P3        P4\n",
              "count  7.000000  7.000000  7.000000  7.000000\n",
              "mean   4.600000  5.642857  4.885714  5.928571\n",
              "std    1.586401  2.115701  2.709507  2.042641\n",
              "min    2.700000  3.600000  2.200000  2.100000\n",
              "25%    3.600000  3.900000  2.800000  5.650000\n",
              "50%    4.300000  5.500000  3.400000  5.800000\n",
              "75%    5.250000  6.900000  7.150000  6.750000\n",
              "max    7.500000  8.800000  8.700000  8.800000"
            ]
          },
          "metadata": {
            "tags": []
          },
          "execution_count": 35
        }
      ]
    },
    {
      "cell_type": "code",
      "metadata": {
        "colab": {
          "base_uri": "https://localhost:8080/",
          "height": 254
        },
        "id": "ykZSjrHOIh1F",
        "outputId": "6bb13d83-a508-4c98-fab5-4826a556a61d"
      },
      "source": [
        "#Adicionar colunas\n",
        "sexo = ['F','M','F','M','F','M','F']\n",
        "notas['Sexo'] = sexo\n",
        "notas"
      ],
      "execution_count": 40,
      "outputs": [
        {
          "output_type": "execute_result",
          "data": {
            "text/html": [
              "<div>\n",
              "<style scoped>\n",
              "    .dataframe tbody tr th:only-of-type {\n",
              "        vertical-align: middle;\n",
              "    }\n",
              "\n",
              "    .dataframe tbody tr th {\n",
              "        vertical-align: top;\n",
              "    }\n",
              "\n",
              "    .dataframe thead th {\n",
              "        text-align: right;\n",
              "    }\n",
              "</style>\n",
              "<table border=\"1\" class=\"dataframe\">\n",
              "  <thead>\n",
              "    <tr style=\"text-align: right;\">\n",
              "      <th></th>\n",
              "      <th>P1</th>\n",
              "      <th>P2</th>\n",
              "      <th>P3</th>\n",
              "      <th>P4</th>\n",
              "      <th>Sexo</th>\n",
              "    </tr>\n",
              "  </thead>\n",
              "  <tbody>\n",
              "    <tr>\n",
              "      <th>Alice</th>\n",
              "      <td>7.5</td>\n",
              "      <td>3.6</td>\n",
              "      <td>2.8</td>\n",
              "      <td>5.6</td>\n",
              "      <td>F</td>\n",
              "    </tr>\n",
              "    <tr>\n",
              "      <th>Bruno</th>\n",
              "      <td>5.0</td>\n",
              "      <td>5.5</td>\n",
              "      <td>2.8</td>\n",
              "      <td>8.8</td>\n",
              "      <td>M</td>\n",
              "    </tr>\n",
              "    <tr>\n",
              "      <th>Carla</th>\n",
              "      <td>3.5</td>\n",
              "      <td>8.2</td>\n",
              "      <td>8.7</td>\n",
              "      <td>7.3</td>\n",
              "      <td>F</td>\n",
              "    </tr>\n",
              "    <tr>\n",
              "      <th>David</th>\n",
              "      <td>4.3</td>\n",
              "      <td>3.7</td>\n",
              "      <td>2.2</td>\n",
              "      <td>2.1</td>\n",
              "      <td>M</td>\n",
              "    </tr>\n",
              "    <tr>\n",
              "      <th>Emily</th>\n",
              "      <td>5.5</td>\n",
              "      <td>5.6</td>\n",
              "      <td>7.9</td>\n",
              "      <td>6.2</td>\n",
              "      <td>F</td>\n",
              "    </tr>\n",
              "    <tr>\n",
              "      <th>Fabio</th>\n",
              "      <td>2.7</td>\n",
              "      <td>4.1</td>\n",
              "      <td>6.4</td>\n",
              "      <td>5.8</td>\n",
              "      <td>M</td>\n",
              "    </tr>\n",
              "    <tr>\n",
              "      <th>Gisele</th>\n",
              "      <td>3.7</td>\n",
              "      <td>8.8</td>\n",
              "      <td>3.4</td>\n",
              "      <td>5.7</td>\n",
              "      <td>F</td>\n",
              "    </tr>\n",
              "  </tbody>\n",
              "</table>\n",
              "</div>"
            ],
            "text/plain": [
              "         P1   P2   P3   P4 Sexo\n",
              "Alice   7.5  3.6  2.8  5.6    F\n",
              "Bruno   5.0  5.5  2.8  8.8    M\n",
              "Carla   3.5  8.2  8.7  7.3    F\n",
              "David   4.3  3.7  2.2  2.1    M\n",
              "Emily   5.5  5.6  7.9  6.2    F\n",
              "Fabio   2.7  4.1  6.4  5.8    M\n",
              "Gisele  3.7  8.8  3.4  5.7    F"
            ]
          },
          "metadata": {
            "tags": []
          },
          "execution_count": 40
        }
      ]
    },
    {
      "cell_type": "code",
      "metadata": {
        "colab": {
          "base_uri": "https://localhost:8080/",
          "height": 140
        },
        "id": "IN-zRZb0XceT",
        "outputId": "75441950-5043-4453-e7ef-7d292e8125b3"
      },
      "source": [
        "#Filtros\n",
        "#Encadeando os filtros e trazendo objetos menores\n",
        "notas[notas['P1']>4][notas['Sexo'] == 'M' ] \n"
      ],
      "execution_count": 58,
      "outputs": [
        {
          "output_type": "stream",
          "text": [
            "/usr/local/lib/python3.7/dist-packages/ipykernel_launcher.py:2: UserWarning: Boolean Series key will be reindexed to match DataFrame index.\n",
            "  \n"
          ],
          "name": "stderr"
        },
        {
          "output_type": "execute_result",
          "data": {
            "text/html": [
              "<div>\n",
              "<style scoped>\n",
              "    .dataframe tbody tr th:only-of-type {\n",
              "        vertical-align: middle;\n",
              "    }\n",
              "\n",
              "    .dataframe tbody tr th {\n",
              "        vertical-align: top;\n",
              "    }\n",
              "\n",
              "    .dataframe thead th {\n",
              "        text-align: right;\n",
              "    }\n",
              "</style>\n",
              "<table border=\"1\" class=\"dataframe\">\n",
              "  <thead>\n",
              "    <tr style=\"text-align: right;\">\n",
              "      <th></th>\n",
              "      <th>P1</th>\n",
              "      <th>P2</th>\n",
              "      <th>P3</th>\n",
              "      <th>P4</th>\n",
              "      <th>Sexo</th>\n",
              "    </tr>\n",
              "  </thead>\n",
              "  <tbody>\n",
              "    <tr>\n",
              "      <th>Bruno</th>\n",
              "      <td>5.0</td>\n",
              "      <td>5.5</td>\n",
              "      <td>2.8</td>\n",
              "      <td>8.8</td>\n",
              "      <td>M</td>\n",
              "    </tr>\n",
              "    <tr>\n",
              "      <th>David</th>\n",
              "      <td>4.3</td>\n",
              "      <td>3.7</td>\n",
              "      <td>2.2</td>\n",
              "      <td>2.1</td>\n",
              "      <td>M</td>\n",
              "    </tr>\n",
              "  </tbody>\n",
              "</table>\n",
              "</div>"
            ],
            "text/plain": [
              "        P1   P2   P3   P4 Sexo\n",
              "Bruno  5.0  5.5  2.8  8.8    M\n",
              "David  4.3  3.7  2.2  2.1    M"
            ]
          },
          "metadata": {
            "tags": []
          },
          "execution_count": 58
        }
      ]
    },
    {
      "cell_type": "code",
      "metadata": {
        "colab": {
          "base_uri": "https://localhost:8080/",
          "height": 106
        },
        "id": "Oy8KM2HwJbsI",
        "outputId": "7ca1da8a-9c9f-4d48-b085-088ba36c08ce"
      },
      "source": [
        "#filtrando dentro do mesmo objeto\n",
        "notas[ (notas['P1']>4) & (notas['Sexo'] == 'M') ] \n"
      ],
      "execution_count": 59,
      "outputs": [
        {
          "output_type": "execute_result",
          "data": {
            "text/html": [
              "<div>\n",
              "<style scoped>\n",
              "    .dataframe tbody tr th:only-of-type {\n",
              "        vertical-align: middle;\n",
              "    }\n",
              "\n",
              "    .dataframe tbody tr th {\n",
              "        vertical-align: top;\n",
              "    }\n",
              "\n",
              "    .dataframe thead th {\n",
              "        text-align: right;\n",
              "    }\n",
              "</style>\n",
              "<table border=\"1\" class=\"dataframe\">\n",
              "  <thead>\n",
              "    <tr style=\"text-align: right;\">\n",
              "      <th></th>\n",
              "      <th>P1</th>\n",
              "      <th>P2</th>\n",
              "      <th>P3</th>\n",
              "      <th>P4</th>\n",
              "      <th>Sexo</th>\n",
              "    </tr>\n",
              "  </thead>\n",
              "  <tbody>\n",
              "    <tr>\n",
              "      <th>Bruno</th>\n",
              "      <td>5.0</td>\n",
              "      <td>5.5</td>\n",
              "      <td>2.8</td>\n",
              "      <td>8.8</td>\n",
              "      <td>M</td>\n",
              "    </tr>\n",
              "    <tr>\n",
              "      <th>David</th>\n",
              "      <td>4.3</td>\n",
              "      <td>3.7</td>\n",
              "      <td>2.2</td>\n",
              "      <td>2.1</td>\n",
              "      <td>M</td>\n",
              "    </tr>\n",
              "  </tbody>\n",
              "</table>\n",
              "</div>"
            ],
            "text/plain": [
              "        P1   P2   P3   P4 Sexo\n",
              "Bruno  5.0  5.5  2.8  8.8    M\n",
              "David  4.3  3.7  2.2  2.1    M"
            ]
          },
          "metadata": {
            "tags": []
          },
          "execution_count": 59
        }
      ]
    },
    {
      "cell_type": "code",
      "metadata": {
        "colab": {
          "base_uri": "https://localhost:8080/",
          "height": 106
        },
        "id": "rMDwozG9VleB",
        "outputId": "e7ae9168-737f-4aba-8c2a-40b3c5ab48b2"
      },
      "source": [
        "#Filtro com loc\n",
        "notas.loc[notas['P1']>4,:].loc[notas['Sexo'] == 'M']"
      ],
      "execution_count": 60,
      "outputs": [
        {
          "output_type": "execute_result",
          "data": {
            "text/html": [
              "<div>\n",
              "<style scoped>\n",
              "    .dataframe tbody tr th:only-of-type {\n",
              "        vertical-align: middle;\n",
              "    }\n",
              "\n",
              "    .dataframe tbody tr th {\n",
              "        vertical-align: top;\n",
              "    }\n",
              "\n",
              "    .dataframe thead th {\n",
              "        text-align: right;\n",
              "    }\n",
              "</style>\n",
              "<table border=\"1\" class=\"dataframe\">\n",
              "  <thead>\n",
              "    <tr style=\"text-align: right;\">\n",
              "      <th></th>\n",
              "      <th>P1</th>\n",
              "      <th>P2</th>\n",
              "      <th>P3</th>\n",
              "      <th>P4</th>\n",
              "      <th>Sexo</th>\n",
              "    </tr>\n",
              "  </thead>\n",
              "  <tbody>\n",
              "    <tr>\n",
              "      <th>Bruno</th>\n",
              "      <td>5.0</td>\n",
              "      <td>5.5</td>\n",
              "      <td>2.8</td>\n",
              "      <td>8.8</td>\n",
              "      <td>M</td>\n",
              "    </tr>\n",
              "    <tr>\n",
              "      <th>David</th>\n",
              "      <td>4.3</td>\n",
              "      <td>3.7</td>\n",
              "      <td>2.2</td>\n",
              "      <td>2.1</td>\n",
              "      <td>M</td>\n",
              "    </tr>\n",
              "  </tbody>\n",
              "</table>\n",
              "</div>"
            ],
            "text/plain": [
              "        P1   P2   P3   P4 Sexo\n",
              "Bruno  5.0  5.5  2.8  8.8    M\n",
              "David  4.3  3.7  2.2  2.1    M"
            ]
          },
          "metadata": {
            "tags": []
          },
          "execution_count": 60
        }
      ]
    },
    {
      "cell_type": "code",
      "metadata": {
        "colab": {
          "base_uri": "https://localhost:8080/"
        },
        "id": "yIXa3ntoW3Db",
        "outputId": "65f20981-c9d0-4081-d53b-e79a7ef518a6"
      },
      "source": [
        "#Pelo indice\n",
        "notas.iloc[1:,2]"
      ],
      "execution_count": 55,
      "outputs": [
        {
          "output_type": "execute_result",
          "data": {
            "text/plain": [
              "Bruno     2.8\n",
              "Carla     8.7\n",
              "David     2.2\n",
              "Emily     7.9\n",
              "Fabio     6.4\n",
              "Gisele    3.4\n",
              "Name: P3, dtype: float64"
            ]
          },
          "metadata": {
            "tags": []
          },
          "execution_count": 55
        }
      ]
    },
    {
      "cell_type": "code",
      "metadata": {
        "colab": {
          "base_uri": "https://localhost:8080/",
          "height": 254
        },
        "id": "Ie8XXqMfXAy3",
        "outputId": "77e85f76-3338-4ec3-c9f9-d2c2c353e109"
      },
      "source": [
        "#Acréscimo de uma Coluna baseado em um cálculo de outras(s)\n",
        "notas['MF']= notas.mean(axis = 1).round(1) #Média das Notas pelo eixo 1 (nomes) \n",
        "notas"
      ],
      "execution_count": 70,
      "outputs": [
        {
          "output_type": "execute_result",
          "data": {
            "text/html": [
              "<div>\n",
              "<style scoped>\n",
              "    .dataframe tbody tr th:only-of-type {\n",
              "        vertical-align: middle;\n",
              "    }\n",
              "\n",
              "    .dataframe tbody tr th {\n",
              "        vertical-align: top;\n",
              "    }\n",
              "\n",
              "    .dataframe thead th {\n",
              "        text-align: right;\n",
              "    }\n",
              "</style>\n",
              "<table border=\"1\" class=\"dataframe\">\n",
              "  <thead>\n",
              "    <tr style=\"text-align: right;\">\n",
              "      <th></th>\n",
              "      <th>P1</th>\n",
              "      <th>P2</th>\n",
              "      <th>P3</th>\n",
              "      <th>P4</th>\n",
              "      <th>Sexo</th>\n",
              "      <th>MF</th>\n",
              "    </tr>\n",
              "  </thead>\n",
              "  <tbody>\n",
              "    <tr>\n",
              "      <th>Alice</th>\n",
              "      <td>7.5</td>\n",
              "      <td>3.6</td>\n",
              "      <td>2.8</td>\n",
              "      <td>5.6</td>\n",
              "      <td>F</td>\n",
              "      <td>4.9</td>\n",
              "    </tr>\n",
              "    <tr>\n",
              "      <th>Bruno</th>\n",
              "      <td>5.0</td>\n",
              "      <td>5.5</td>\n",
              "      <td>2.8</td>\n",
              "      <td>8.8</td>\n",
              "      <td>M</td>\n",
              "      <td>5.5</td>\n",
              "    </tr>\n",
              "    <tr>\n",
              "      <th>Carla</th>\n",
              "      <td>3.5</td>\n",
              "      <td>8.2</td>\n",
              "      <td>8.7</td>\n",
              "      <td>7.3</td>\n",
              "      <td>F</td>\n",
              "      <td>6.9</td>\n",
              "    </tr>\n",
              "    <tr>\n",
              "      <th>David</th>\n",
              "      <td>4.3</td>\n",
              "      <td>3.7</td>\n",
              "      <td>2.2</td>\n",
              "      <td>2.1</td>\n",
              "      <td>M</td>\n",
              "      <td>3.1</td>\n",
              "    </tr>\n",
              "    <tr>\n",
              "      <th>Emily</th>\n",
              "      <td>5.5</td>\n",
              "      <td>5.6</td>\n",
              "      <td>7.9</td>\n",
              "      <td>6.2</td>\n",
              "      <td>F</td>\n",
              "      <td>6.3</td>\n",
              "    </tr>\n",
              "    <tr>\n",
              "      <th>Fabio</th>\n",
              "      <td>2.7</td>\n",
              "      <td>4.1</td>\n",
              "      <td>6.4</td>\n",
              "      <td>5.8</td>\n",
              "      <td>M</td>\n",
              "      <td>4.8</td>\n",
              "    </tr>\n",
              "    <tr>\n",
              "      <th>Gisele</th>\n",
              "      <td>3.7</td>\n",
              "      <td>8.8</td>\n",
              "      <td>3.4</td>\n",
              "      <td>5.7</td>\n",
              "      <td>F</td>\n",
              "      <td>5.4</td>\n",
              "    </tr>\n",
              "  </tbody>\n",
              "</table>\n",
              "</div>"
            ],
            "text/plain": [
              "         P1   P2   P3   P4 Sexo   MF\n",
              "Alice   7.5  3.6  2.8  5.6    F  4.9\n",
              "Bruno   5.0  5.5  2.8  8.8    M  5.5\n",
              "Carla   3.5  8.2  8.7  7.3    F  6.9\n",
              "David   4.3  3.7  2.2  2.1    M  3.1\n",
              "Emily   5.5  5.6  7.9  6.2    F  6.3\n",
              "Fabio   2.7  4.1  6.4  5.8    M  4.8\n",
              "Gisele  3.7  8.8  3.4  5.7    F  5.4"
            ]
          },
          "metadata": {
            "tags": []
          },
          "execution_count": 70
        }
      ]
    },
    {
      "cell_type": "code",
      "metadata": {
        "id": "EUscW0e0Y-jP"
      },
      "source": [
        "def auxiliar(x):\n",
        "    if x >= 5:\n",
        "      return 'Aprovado'\n",
        "    else:\n",
        "        return 'Reprovado'"
      ],
      "execution_count": 72,
      "outputs": []
    },
    {
      "cell_type": "code",
      "metadata": {
        "colab": {
          "base_uri": "https://localhost:8080/",
          "height": 254
        },
        "id": "jnFa15ZLZqEZ",
        "outputId": "358d5938-3cbb-4545-88a5-540023e8ff07"
      },
      "source": [
        "notas['Situação'] = notas['MF'].apply(auxiliar)\n",
        "notas"
      ],
      "execution_count": 74,
      "outputs": [
        {
          "output_type": "execute_result",
          "data": {
            "text/html": [
              "<div>\n",
              "<style scoped>\n",
              "    .dataframe tbody tr th:only-of-type {\n",
              "        vertical-align: middle;\n",
              "    }\n",
              "\n",
              "    .dataframe tbody tr th {\n",
              "        vertical-align: top;\n",
              "    }\n",
              "\n",
              "    .dataframe thead th {\n",
              "        text-align: right;\n",
              "    }\n",
              "</style>\n",
              "<table border=\"1\" class=\"dataframe\">\n",
              "  <thead>\n",
              "    <tr style=\"text-align: right;\">\n",
              "      <th></th>\n",
              "      <th>P1</th>\n",
              "      <th>P2</th>\n",
              "      <th>P3</th>\n",
              "      <th>P4</th>\n",
              "      <th>Sexo</th>\n",
              "      <th>MF</th>\n",
              "      <th>Situação</th>\n",
              "    </tr>\n",
              "  </thead>\n",
              "  <tbody>\n",
              "    <tr>\n",
              "      <th>Alice</th>\n",
              "      <td>7.5</td>\n",
              "      <td>3.6</td>\n",
              "      <td>2.8</td>\n",
              "      <td>5.6</td>\n",
              "      <td>F</td>\n",
              "      <td>4.9</td>\n",
              "      <td>Reprovado</td>\n",
              "    </tr>\n",
              "    <tr>\n",
              "      <th>Bruno</th>\n",
              "      <td>5.0</td>\n",
              "      <td>5.5</td>\n",
              "      <td>2.8</td>\n",
              "      <td>8.8</td>\n",
              "      <td>M</td>\n",
              "      <td>5.5</td>\n",
              "      <td>Aprovado</td>\n",
              "    </tr>\n",
              "    <tr>\n",
              "      <th>Carla</th>\n",
              "      <td>3.5</td>\n",
              "      <td>8.2</td>\n",
              "      <td>8.7</td>\n",
              "      <td>7.3</td>\n",
              "      <td>F</td>\n",
              "      <td>6.9</td>\n",
              "      <td>Aprovado</td>\n",
              "    </tr>\n",
              "    <tr>\n",
              "      <th>David</th>\n",
              "      <td>4.3</td>\n",
              "      <td>3.7</td>\n",
              "      <td>2.2</td>\n",
              "      <td>2.1</td>\n",
              "      <td>M</td>\n",
              "      <td>3.1</td>\n",
              "      <td>Reprovado</td>\n",
              "    </tr>\n",
              "    <tr>\n",
              "      <th>Emily</th>\n",
              "      <td>5.5</td>\n",
              "      <td>5.6</td>\n",
              "      <td>7.9</td>\n",
              "      <td>6.2</td>\n",
              "      <td>F</td>\n",
              "      <td>6.3</td>\n",
              "      <td>Aprovado</td>\n",
              "    </tr>\n",
              "    <tr>\n",
              "      <th>Fabio</th>\n",
              "      <td>2.7</td>\n",
              "      <td>4.1</td>\n",
              "      <td>6.4</td>\n",
              "      <td>5.8</td>\n",
              "      <td>M</td>\n",
              "      <td>4.8</td>\n",
              "      <td>Reprovado</td>\n",
              "    </tr>\n",
              "    <tr>\n",
              "      <th>Gisele</th>\n",
              "      <td>3.7</td>\n",
              "      <td>8.8</td>\n",
              "      <td>3.4</td>\n",
              "      <td>5.7</td>\n",
              "      <td>F</td>\n",
              "      <td>5.4</td>\n",
              "      <td>Aprovado</td>\n",
              "    </tr>\n",
              "  </tbody>\n",
              "</table>\n",
              "</div>"
            ],
            "text/plain": [
              "         P1   P2   P3   P4 Sexo   MF   Situação\n",
              "Alice   7.5  3.6  2.8  5.6    F  4.9  Reprovado\n",
              "Bruno   5.0  5.5  2.8  8.8    M  5.5   Aprovado\n",
              "Carla   3.5  8.2  8.7  7.3    F  6.9   Aprovado\n",
              "David   4.3  3.7  2.2  2.1    M  3.1  Reprovado\n",
              "Emily   5.5  5.6  7.9  6.2    F  6.3   Aprovado\n",
              "Fabio   2.7  4.1  6.4  5.8    M  4.8  Reprovado\n",
              "Gisele  3.7  8.8  3.4  5.7    F  5.4   Aprovado"
            ]
          },
          "metadata": {
            "tags": []
          },
          "execution_count": 74
        }
      ]
    },
    {
      "cell_type": "code",
      "metadata": {
        "colab": {
          "base_uri": "https://localhost:8080/",
          "height": 254
        },
        "id": "4NVG5KpvZ6lU",
        "outputId": "4c86ce5c-bc8e-489c-9a1b-406486b3167f"
      },
      "source": [
        "#Ordenação\n",
        "notas.sort_values(by = ['MF','P3'], ascending = False)"
      ],
      "execution_count": 78,
      "outputs": [
        {
          "output_type": "execute_result",
          "data": {
            "text/html": [
              "<div>\n",
              "<style scoped>\n",
              "    .dataframe tbody tr th:only-of-type {\n",
              "        vertical-align: middle;\n",
              "    }\n",
              "\n",
              "    .dataframe tbody tr th {\n",
              "        vertical-align: top;\n",
              "    }\n",
              "\n",
              "    .dataframe thead th {\n",
              "        text-align: right;\n",
              "    }\n",
              "</style>\n",
              "<table border=\"1\" class=\"dataframe\">\n",
              "  <thead>\n",
              "    <tr style=\"text-align: right;\">\n",
              "      <th></th>\n",
              "      <th>P1</th>\n",
              "      <th>P2</th>\n",
              "      <th>P3</th>\n",
              "      <th>P4</th>\n",
              "      <th>Sexo</th>\n",
              "      <th>MF</th>\n",
              "      <th>Situação</th>\n",
              "    </tr>\n",
              "  </thead>\n",
              "  <tbody>\n",
              "    <tr>\n",
              "      <th>Carla</th>\n",
              "      <td>3.5</td>\n",
              "      <td>8.2</td>\n",
              "      <td>8.7</td>\n",
              "      <td>7.3</td>\n",
              "      <td>F</td>\n",
              "      <td>6.9</td>\n",
              "      <td>Aprovado</td>\n",
              "    </tr>\n",
              "    <tr>\n",
              "      <th>Emily</th>\n",
              "      <td>5.5</td>\n",
              "      <td>5.6</td>\n",
              "      <td>7.9</td>\n",
              "      <td>6.2</td>\n",
              "      <td>F</td>\n",
              "      <td>6.3</td>\n",
              "      <td>Aprovado</td>\n",
              "    </tr>\n",
              "    <tr>\n",
              "      <th>Bruno</th>\n",
              "      <td>5.0</td>\n",
              "      <td>5.5</td>\n",
              "      <td>2.8</td>\n",
              "      <td>8.8</td>\n",
              "      <td>M</td>\n",
              "      <td>5.5</td>\n",
              "      <td>Aprovado</td>\n",
              "    </tr>\n",
              "    <tr>\n",
              "      <th>Gisele</th>\n",
              "      <td>3.7</td>\n",
              "      <td>8.8</td>\n",
              "      <td>3.4</td>\n",
              "      <td>5.7</td>\n",
              "      <td>F</td>\n",
              "      <td>5.4</td>\n",
              "      <td>Aprovado</td>\n",
              "    </tr>\n",
              "    <tr>\n",
              "      <th>Alice</th>\n",
              "      <td>7.5</td>\n",
              "      <td>3.6</td>\n",
              "      <td>2.8</td>\n",
              "      <td>5.6</td>\n",
              "      <td>F</td>\n",
              "      <td>4.9</td>\n",
              "      <td>Reprovado</td>\n",
              "    </tr>\n",
              "    <tr>\n",
              "      <th>Fabio</th>\n",
              "      <td>2.7</td>\n",
              "      <td>4.1</td>\n",
              "      <td>6.4</td>\n",
              "      <td>5.8</td>\n",
              "      <td>M</td>\n",
              "      <td>4.8</td>\n",
              "      <td>Reprovado</td>\n",
              "    </tr>\n",
              "    <tr>\n",
              "      <th>David</th>\n",
              "      <td>4.3</td>\n",
              "      <td>3.7</td>\n",
              "      <td>2.2</td>\n",
              "      <td>2.1</td>\n",
              "      <td>M</td>\n",
              "      <td>3.1</td>\n",
              "      <td>Reprovado</td>\n",
              "    </tr>\n",
              "  </tbody>\n",
              "</table>\n",
              "</div>"
            ],
            "text/plain": [
              "         P1   P2   P3   P4 Sexo   MF   Situação\n",
              "Carla   3.5  8.2  8.7  7.3    F  6.9   Aprovado\n",
              "Emily   5.5  5.6  7.9  6.2    F  6.3   Aprovado\n",
              "Bruno   5.0  5.5  2.8  8.8    M  5.5   Aprovado\n",
              "Gisele  3.7  8.8  3.4  5.7    F  5.4   Aprovado\n",
              "Alice   7.5  3.6  2.8  5.6    F  4.9  Reprovado\n",
              "Fabio   2.7  4.1  6.4  5.8    M  4.8  Reprovado\n",
              "David   4.3  3.7  2.2  2.1    M  3.1  Reprovado"
            ]
          },
          "metadata": {
            "tags": []
          },
          "execution_count": 78
        }
      ]
    },
    {
      "cell_type": "code",
      "metadata": {
        "colab": {
          "base_uri": "https://localhost:8080/"
        },
        "id": "I80lFlQGaQdO",
        "outputId": "552107b3-39e0-4687-babc-e86f1fa266e5"
      },
      "source": [
        "#Cálculo de um filtro\n",
        "notas[notas['Sexo']=='M']['MF'].mean()"
      ],
      "execution_count": 81,
      "outputs": [
        {
          "output_type": "execute_result",
          "data": {
            "text/plain": [
              "4.466666666666666"
            ]
          },
          "metadata": {
            "tags": []
          },
          "execution_count": 81
        }
      ]
    },
    {
      "cell_type": "code",
      "metadata": {
        "colab": {
          "base_uri": "https://localhost:8080/"
        },
        "id": "dasUFLv0atYm",
        "outputId": "0bd7bea8-a957-4205-e60c-be3279828185"
      },
      "source": [
        "#Cálculo com Agrupamento\n",
        "notas['MF'].groupby(notas['Sexo']).mean()"
      ],
      "execution_count": 105,
      "outputs": [
        {
          "output_type": "execute_result",
          "data": {
            "text/plain": [
              "Sexo\n",
              "F    5.875000\n",
              "M    4.466667\n",
              "Name: MF, dtype: float64"
            ]
          },
          "metadata": {
            "tags": []
          },
          "execution_count": 105
        }
      ]
    },
    {
      "cell_type": "code",
      "metadata": {
        "colab": {
          "base_uri": "https://localhost:8080/"
        },
        "id": "LnzoJsT1fTDG",
        "outputId": "1f5d0a81-c824-4a6a-8f82-a473ee2bae12"
      },
      "source": [
        "#\n",
        "notas.loc['Carla',:]"
      ],
      "execution_count": 106,
      "outputs": [
        {
          "output_type": "execute_result",
          "data": {
            "text/plain": [
              "P1               3.5\n",
              "P2               8.2\n",
              "P3               8.7\n",
              "P4               7.3\n",
              "Sexo               F\n",
              "MF               6.9\n",
              "Situação    Aprovado\n",
              "Name: Carla, dtype: object"
            ]
          },
          "metadata": {
            "tags": []
          },
          "execution_count": 106
        }
      ]
    },
    {
      "cell_type": "code",
      "metadata": {
        "colab": {
          "base_uri": "https://localhost:8080/",
          "height": 282
        },
        "id": "ySxboOESbEJq",
        "outputId": "4236d540-76ed-47b5-b3b8-d0a9d6c8d648"
      },
      "source": [
        "#Gráficos do Pandas\n",
        "notas['MF'].groupby(notas['Sexo']).mean().plot(kind = 'barh')\n"
      ],
      "execution_count": 89,
      "outputs": [
        {
          "output_type": "execute_result",
          "data": {
            "text/plain": [
              "<matplotlib.axes._subplots.AxesSubplot at 0x7feddfe65c50>"
            ]
          },
          "metadata": {
            "tags": []
          },
          "execution_count": 89
        },
        {
          "output_type": "display_data",
          "data": {
            "image/png": "[encoded data removed]",
            "text/plain": [
              "<Figure size 432x288 with 1 Axes>"
            ]
          },
          "metadata": {
            "tags": [],
            "needs_background": "light"
          }
        }
      ]
    },
    {
      "cell_type": "code",
      "metadata": {
        "colab": {
          "base_uri": "https://localhost:8080/",
          "height": 265
        },
        "id": "U2AIWyD1b3C5",
        "outputId": "a0fcab42-48df-41a3-ea38-8bcdd6c708b8"
      },
      "source": [
        "notas[colunas].T.plot();"
      ],
      "execution_count": 95,
      "outputs": [
        {
          "output_type": "display_data",
          "data": {
            "image/png": "[encoded data removed]",
            "text/plain": [
              "<Figure size 432x288 with 1 Axes>"
            ]
          },
          "metadata": {
            "tags": [],
            "needs_background": "light"
          }
        }
      ]
    },
    {
      "cell_type": "code",
      "metadata": {
        "colab": {
          "base_uri": "https://localhost:8080/",
          "height": 265
        },
        "id": "JJ2hzYancXXD",
        "outputId": "3cb74f48-4e13-4ca4-e4e6-80cbc51979a8"
      },
      "source": [
        "notas[colunas].plot( kind = 'box');"
      ],
      "execution_count": 97,
      "outputs": [
        {
          "output_type": "display_data",
          "data": {
            "image/png": "[encoded data removed]",
            "text/plain": [
              "<Figure size 432x288 with 1 Axes>"
            ]
          },
          "metadata": {
            "tags": [],
            "needs_background": "light"
          }
        }
      ]
    },
    {
      "cell_type": "code",
      "metadata": {
        "colab": {
          "base_uri": "https://localhost:8080/",
          "height": 265
        },
        "id": "8ONpW74udHjj",
        "outputId": "f7479d84-d682-4ed2-d0fb-e9343171cb14"
      },
      "source": [
        "notas[colunas].T.plot( kind = 'box');"
      ],
      "execution_count": 98,
      "outputs": [
        {
          "output_type": "display_data",
          "data": {
            "image/png": "[encoded data removed]",
            "text/plain": [
              "<Figure size 432x288 with 1 Axes>"
            ]
          },
          "metadata": {
            "tags": [],
            "needs_background": "light"
          }
        }
      ]
    },
    {
      "cell_type": "code",
      "metadata": {
        "colab": {
          "base_uri": "https://localhost:8080/",
          "height": 265
        },
        "id": "gtL2rRcTdOTq",
        "outputId": "8f56c433-05df-4e87-be81-7594158ecf36"
      },
      "source": [
        "notas['MF'].plot( kind = 'hist');"
      ],
      "execution_count": 101,
      "outputs": [
        {
          "output_type": "display_data",
          "data": {
            "image/png": "[encoded data removed]",
            "text/plain": [
              "<Figure size 432x288 with 1 Axes>"
            ]
          },
          "metadata": {
            "tags": [],
            "needs_background": "light"
          }
        }
      ]
    },
    {
      "cell_type": "code",
      "metadata": {
        "colab": {
          "base_uri": "https://localhost:8080/",
          "height": 282
        },
        "id": "zWhyi91jd9eb",
        "outputId": "fc4f6fbb-6f74-4862-9567-5e3e1ab2bfc3"
      },
      "source": [
        "x = np.random.uniform(2,9,1000)\n",
        "pd.DataFrame(x).plot(kind = 'hist', edgecolor = 'black', bins = 20)"
      ],
      "execution_count": 102,
      "outputs": [
        {
          "output_type": "execute_result",
          "data": {
            "text/plain": [
              "<matplotlib.axes._subplots.AxesSubplot at 0x7feddfb42810>"
            ]
          },
          "metadata": {
            "tags": []
          },
          "execution_count": 102
        },
        {
          "output_type": "display_data",
          "data": {
            "image/png": "[encoded data removed]",
            "text/plain": [
              "<Figure size 432x288 with 1 Axes>"
            ]
          },
          "metadata": {
            "tags": [],
            "needs_background": "light"
          }
        }
      ]
    },
    {
      "cell_type": "code",
      "metadata": {
        "colab": {
          "base_uri": "https://localhost:8080/",
          "height": 282
        },
        "id": "nia30_N0esvv",
        "outputId": "8ee20f54-29bc-4b27-9b48-131123175638"
      },
      "source": [
        "x = np.random.normal(2,9,10000)\n",
        "pd.DataFrame(x).plot(kind = 'hist', edgecolor = 'black', bins = 20)"
      ],
      "execution_count": 104,
      "outputs": [
        {
          "output_type": "execute_result",
          "data": {
            "text/plain": [
              "<matplotlib.axes._subplots.AxesSubplot at 0x7feddf589050>"
            ]
          },
          "metadata": {
            "tags": []
          },
          "execution_count": 104
        },
        {
          "output_type": "display_data",
          "data": {
            "image/png": "[encoded data removed]",
            "text/plain": [
              "<Figure size 432x288 with 1 Axes>"
            ]
          },
          "metadata": {
            "tags": [],
            "needs_background": "light"
          }
        }
      ]
    },
    {
      "cell_type": "code",
      "metadata": {
        "id": "PWM2Vky-ev4F"
      },
      "source": [
        ""
      ],
      "execution_count": null,
      "outputs": []
    }
  ]
}