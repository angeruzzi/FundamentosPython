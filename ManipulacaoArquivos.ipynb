{
  "nbformat": 4,
  "nbformat_minor": 0,
  "metadata": {
    "colab": {
      "name": "ManipulacaoArquivos.ipynb",
      "provenance": [],
      "collapsed_sections": [],
      "mount_file_id": "1JiOSkfUvOnQMwx5UZnytrRsUqN0dYn90",
      "authorship_tag": "ABX9TyNIF1ORb7+9uXw3vnO7w8Ua",
      "include_colab_link": true
    },
    "kernelspec": {
      "name": "python3",
      "display_name": "Python 3"
    },
    "language_info": {
      "name": "python"
    }
  },
  "cells": [
    {
      "cell_type": "markdown",
      "metadata": {
        "id": "view-in-github",
        "colab_type": "text"
      },
      "source": [
        "<a href=\"https://colab.research.google.com/github/angeruzzi/FundamentosPython/blob/main/ManipulacaoArquivos.ipynb\" target=\"_parent\"><img src=\"https://colab.research.google.com/assets/colab-badge.svg\" alt=\"Open In Colab\"/></a>"
      ]
    },
    {
      "cell_type": "markdown",
      "metadata": {
        "id": "JsqqqHNlqKqO"
      },
      "source": [
        "#Manipulando Arquivos Texto"
      ]
    },
    {
      "cell_type": "code",
      "metadata": {
        "id": "8N5XjVBWqB6y"
      },
      "source": [
        "#A partir de um endereço web\n",
        "fonte = \"https://raw.githubusercontent.com/angeruzzi/Datasource/main/dom_casmurro_cap_1.txt\"\n",
        "\n",
        "#Endereço local\n",
        "fonte = \"../pasta/dom_casmurro_cap_1.txt\"\n",
        "\n",
        "#Google Colab\n",
        "fonte = \"/content/dom_casmurro_cap_1.txt\"\n",
        "\n",
        "#Google Drive\n",
        "from google.colab import drive\n",
        "drive.mount('/content/drive')\n",
        "fonte = \"/content/drive/MyDrive/dom_casmurro_cap_1.txt\""
      ],
      "execution_count": null,
      "outputs": []
    },
    {
      "cell_type": "code",
      "metadata": {
        "id": "9uS_pjUUjXpw"
      },
      "source": [
        "#Abrir para leitura\n",
        "#opção 1)\n",
        "arquivo = open(fonte, 'r', encoding='utf-8')\n",
        "texto = arquivo.read()\n",
        "arquivo.close()\n",
        "\n",
        "#opção 2)\n",
        "with open('dom_casmurro_cap_1.txt', 'r', encoding='utf-8') as arquivo:\n",
        "  texto = arquivo.read()\n",
        "  print(texto)"
      ],
      "execution_count": null,
      "outputs": []
    },
    {
      "cell_type": "code",
      "metadata": {
        "id": "FEdTvWS0jlJq"
      },
      "source": [
        "#Abrir arquivo \"novo\" para escrita\n",
        "with open('arquivo_teste.txt', 'w', encoding='utf-8') as arquivo:\n",
        "  arquivo.write('Essa é uma linha que eu escrevi usando Python\\n')\n",
        "  arquivo.write('Essa é a segunda linha que eu escrevi usando Python\\n')"
      ],
      "execution_count": null,
      "outputs": []
    },
    {
      "cell_type": "code",
      "metadata": {
        "id": "aXSJsPj6j4ka"
      },
      "source": [
        "#Abrir arquivo existente para escrita\n",
        "with open('arquivo_teste.txt', 'a', encoding='utf-8') as arquivo:\n",
        "  arquivo.write('Essa é a terceira linha que eu escrevi usando Python\\n')"
      ],
      "execution_count": null,
      "outputs": []
    }
  ]
}