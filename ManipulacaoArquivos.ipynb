{
  "nbformat": 4,
  "nbformat_minor": 0,
  "metadata": {
    "colab": {
      "name": "ManipulacaoArquivos.ipynb",
      "provenance": [],
      "collapsed_sections": [],
      "mount_file_id": "1JiOSkfUvOnQMwx5UZnytrRsUqN0dYn90",
      "authorship_tag": "ABX9TyMQO2AIklUGLbX1qUI5G5KR",
      "include_colab_link": true
    },
    "kernelspec": {
      "name": "python3",
      "display_name": "Python 3"
    },
    "language_info": {
      "name": "python"
    }
  },
  "cells": [
    {
      "cell_type": "markdown",
      "metadata": {
        "id": "view-in-github",
        "colab_type": "text"
      },
      "source": [
        "<a href=\"https://colab.research.google.com/github/angeruzzi/FundamentosPython/blob/main/ManipulacaoArquivos.ipynb\" target=\"_parent\"><img src=\"https://colab.research.google.com/assets/colab-badge.svg\" alt=\"Open In Colab\"/></a>"
      ]
    },
    {
      "cell_type": "markdown",
      "metadata": {
        "id": "JsqqqHNlqKqO"
      },
      "source": [
        "#Manipulando Arquivos Texto"
      ]
    },
    {
      "cell_type": "code",
      "metadata": {
        "id": "8N5XjVBWqB6y"
      },
      "source": [
        "#Endereço local\n",
        "#fonte = \"../pasta/dom_casmurro_cap_1.txt\"\n",
        "\n",
        "#Google Colab\n",
        "fonte = \"/content/dom_casmurro_cap_1.txt\"\n",
        "\n",
        "#Google Drive\n",
        "#from google.colab import drive\n",
        "#drive.mount('/content/drive')\n",
        "#fonte = \"/content/drive/MyDrive/dom_casmurro_cap_1.txt\""
      ],
      "execution_count": null,
      "outputs": []
    },
    {
      "cell_type": "code",
      "metadata": {
        "id": "9uS_pjUUjXpw",
        "colab": {
          "base_uri": "https://localhost:8080/",
          "height": 236
        },
        "outputId": "3604f258-9965-4e7c-9f90-a0fe91387202"
      },
      "source": [
        "#Abrir para leitura\n",
        "#opção 1)\n",
        "arquivo = open(fonte, 'r', encoding='utf-8')\n",
        "texto = arquivo.read()\n",
        "arquivo.close()\n",
        "\n",
        "#opção 2)\n",
        "with open('dom_casmurro_cap_1.txt', 'r', encoding='utf-8') as arquivo:\n",
        "  texto = arquivo.read()\n",
        "  print(texto)"
      ],
      "execution_count": null,
      "outputs": [
        {
          "output_type": "error",
          "ename": "FileNotFoundError",
          "evalue": "ignored",
          "traceback": [
            "\u001b[0;31m---------------------------------------------------------------------------\u001b[0m",
            "\u001b[0;31mFileNotFoundError\u001b[0m                         Traceback (most recent call last)",
            "\u001b[0;32m<ipython-input-3-cb67dd636948>\u001b[0m in \u001b[0;36m<module>\u001b[0;34m()\u001b[0m\n\u001b[1;32m      1\u001b[0m \u001b[0;31m#Abrir para leitura\u001b[0m\u001b[0;34m\u001b[0m\u001b[0;34m\u001b[0m\u001b[0;34m\u001b[0m\u001b[0m\n\u001b[1;32m      2\u001b[0m \u001b[0;31m#opção 1)\u001b[0m\u001b[0;34m\u001b[0m\u001b[0;34m\u001b[0m\u001b[0;34m\u001b[0m\u001b[0m\n\u001b[0;32m----> 3\u001b[0;31m \u001b[0marquivo\u001b[0m \u001b[0;34m=\u001b[0m \u001b[0mopen\u001b[0m\u001b[0;34m(\u001b[0m\u001b[0mfonte\u001b[0m\u001b[0;34m,\u001b[0m \u001b[0;34m'r'\u001b[0m\u001b[0;34m,\u001b[0m \u001b[0mencoding\u001b[0m\u001b[0;34m=\u001b[0m\u001b[0;34m'utf-8'\u001b[0m\u001b[0;34m)\u001b[0m\u001b[0;34m\u001b[0m\u001b[0;34m\u001b[0m\u001b[0m\n\u001b[0m\u001b[1;32m      4\u001b[0m \u001b[0mtexto\u001b[0m \u001b[0;34m=\u001b[0m \u001b[0marquivo\u001b[0m\u001b[0;34m.\u001b[0m\u001b[0mread\u001b[0m\u001b[0;34m(\u001b[0m\u001b[0;34m)\u001b[0m\u001b[0;34m\u001b[0m\u001b[0;34m\u001b[0m\u001b[0m\n\u001b[1;32m      5\u001b[0m \u001b[0marquivo\u001b[0m\u001b[0;34m.\u001b[0m\u001b[0mclose\u001b[0m\u001b[0;34m(\u001b[0m\u001b[0;34m)\u001b[0m\u001b[0;34m\u001b[0m\u001b[0;34m\u001b[0m\u001b[0m\n",
            "\u001b[0;31mFileNotFoundError\u001b[0m: [Errno 2] No such file or directory: 'https://raw.githubusercontent.com/angeruzzi/Datasource/main/dom_casmurro_cap_1.txt'"
          ]
        }
      ]
    },
    {
      "cell_type": "code",
      "metadata": {
        "id": "FEdTvWS0jlJq"
      },
      "source": [
        "#Abrir arquivo \"novo\" para escrita\n",
        "with open('arquivo_teste.txt', 'w', encoding='utf-8') as arquivo:\n",
        "  arquivo.write('Essa é uma linha que eu escrevi usando Python\\n')\n",
        "  arquivo.write('Essa é a segunda linha que eu escrevi usando Python\\n')"
      ],
      "execution_count": null,
      "outputs": []
    },
    {
      "cell_type": "code",
      "metadata": {
        "id": "aXSJsPj6j4ka"
      },
      "source": [
        "#Abrir arquivo existente para escrita\n",
        "with open('arquivo_teste.txt', 'a', encoding='utf-8') as arquivo:\n",
        "  arquivo.write('Essa é a terceira linha que eu escrevi usando Python\\n')"
      ],
      "execution_count": null,
      "outputs": []
    },
    {
      "cell_type": "code",
      "metadata": {
        "id": "3cBAbhQEmFr2",
        "colab": {
          "base_uri": "https://localhost:8080/"
        },
        "outputId": "0ceb26df-3090-41ad-e1d2-152a56ee5511"
      },
      "source": [
        "#Abrir arquivo a partir de um endereço web\n",
        "import requests \n",
        "\n",
        "fonteURL = \"https://raw.githubusercontent.com/angeruzzi/Datasource/main/dom_casmurro_cap_1.txt\"\n",
        "\n",
        "response = requests.get(fonteURL) \n",
        "print(response.text) \n"
      ],
      "execution_count": null,
      "outputs": [
        {
          "output_type": "stream",
          "name": "stdout",
          "text": [
            "Dom Casmurro \r\n",
            "\r\n",
            "Texto de referenda: \r\n",
            "Obras Completas de Machado de Assis, vol. I, \r\n",
            "Nova Aguilar, Rio de Janeiro, 1994. \r\n",
            "Publicado originalmente pela Editora Gamier, Rio de Janeiro, 1899. \r\n",
            "\r\n",
            "\r\n",
            "CAPITULO PRIMEIRO \r\n",
            "DO TITULO \r\n",
            "\r\n",
            "Uma noite destas, vindo da cidade para o Engenho Novo, encontrei no trem da \r\n",
            "Central um rapaz aqui do bairro, que eu conhego de vista e de chapeu. \r\n",
            "Cumprimentou-me, sentou-se ao pe de mim, falou da Lua e dos ministros, e \r\n",
            "acabou recitando-me versos. A viagem era curta, e os versos pode ser que nao \r\n",
            "fossem inteiramente maus. Sucedeu, porem, que, como eu estava cansado, fechei \r\n",
            "os olhos tres ou quatro vezes; tanto bastou para que ele interrompesse a leitura e \r\n",
            "metesse os versos no bolso. \r\n",
            "\r\n",
            "— Continue, disse eu acordando. \r\n",
            "\r\n",
            "— Ja acabei, murmurou ele. \r\n",
            "\r\n",
            "— Sao muito bonitos. \r\n",
            "\r\n",
            "Vi-lhe fazer um gesto para tira-los outra vez do bolso, mas nao passou do gesto; \r\n",
            "estava amuado. No dia seguinte entrou a dizer de mim nomes feios, e acabou \r\n",
            "alcunhando-me Dom Casmurro. Os vizinhos, que nao gostam dos meus habitos \r\n",
            "reclusos e calados, deram curso a alcunha, que afinal pegou. Nem por isso me \r\n",
            "zanguei. Contei a anedota aos amigos da cidade, e eles, por graga, chamam-me \r\n",
            "assim, alguns em bilhetes: \"Dom Casmurro, domingo vou jantar com voce”.— \r\n",
            "\"Vou para Petropolis, Dom Casmurro; a casa e a mesma da Renania; ve se deixas \r\n",
            "essa caverna do Engenho Novo, e vai la passar uns quinze dias comigo\".— \"Meu \r\n",
            "caro Dom Casmurro, nao cuide que o dispenso do teatro amanha; venha e dormira \r\n",
            "aqui na cidade; dou-lhe camarote, dou-lhe cha, dou-lhe cama; so nao Ihe dou \r\n",
            "moga”. \r\n",
            "\r\n",
            "Nao consultes dicionarios. Casmurro nao esta aqui no sentido que eles Ihe dao, \r\n",
            "mas no que Ihe pos o vulgo de homem calado e metido consigo. Dom veio por \r\n",
            "ironia, para atribuir-me fumos de fidalgo. Tudo por estar cochilando! Tambem nao \r\n",
            "achei melhor titulo para a minha narracao; se nao tiver outro daqui ate ao fim do \r\n",
            "livro, vai este mesmo. O meu poeta do trem ficara sabendo que nao Ihe guardo \r\n",
            "rancor. E com pequeno esforco, sendo o titulo seu, podera cuidar que a obra e \r\n",
            "sua. Ha livros que apenas terao isso dos seus autores; alguns nem tanto. \r\n",
            "\n"
          ]
        }
      ]
    },
    {
      "cell_type": "markdown",
      "metadata": {
        "id": "-Pi4QbcXoTJs"
      },
      "source": [
        "#Dados Tabulares"
      ]
    },
    {
      "cell_type": "code",
      "metadata": {
        "id": "0BdDGMGyocuC"
      },
      "source": [
        "#CSV\n"
      ],
      "execution_count": null,
      "outputs": []
    },
    {
      "cell_type": "code",
      "metadata": {
        "id": "ob5SKYXHoVpw"
      },
      "source": [
        "#EXCEL\n",
        "dados = pd.read_excel('https://github.com/angeruzzi/Datasource/blob/1c3af4c563eaa9b80ab627ef619e66c82a8e1ad4/dados_producao_amendoim.xlsx?raw=true')\n",
        "dados.head()"
      ],
      "execution_count": null,
      "outputs": []
    }
  ]
}